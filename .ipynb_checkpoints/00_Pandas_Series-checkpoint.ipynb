{
 "cells": [
  {
   "cell_type": "markdown",
   "id": "e17a942c",
   "metadata": {},
   "source": [
    "# Pandas Series\n",
    "\n",
    "A series is a one-dimensional labeled array capable of holding any data type. The axis labels are collectively called index"
   ]
  },
  {
   "cell_type": "markdown",
   "id": "866700ba",
   "metadata": {},
   "source": [
    "### Creating a series"
   ]
  },
  {
   "cell_type": "code",
   "execution_count": 1,
   "id": "7064fa3a",
   "metadata": {},
   "outputs": [],
   "source": [
    "import  pandas as pd\n",
    "import numpy as np"
   ]
  },
  {
   "cell_type": "code",
   "execution_count": null,
   "id": "c7f9ddd8",
   "metadata": {},
   "outputs": [],
   "source": []
  }
 ],
 "metadata": {
  "kernelspec": {
   "display_name": "myenv",
   "language": "python",
   "name": "python3"
  },
  "language_info": {
   "codemirror_mode": {
    "name": "ipython",
    "version": 3
   },
   "file_extension": ".py",
   "mimetype": "text/x-python",
   "name": "python",
   "nbconvert_exporter": "python",
   "pygments_lexer": "ipython3",
   "version": "3.13.5"
  }
 },
 "nbformat": 4,
 "nbformat_minor": 5
}
