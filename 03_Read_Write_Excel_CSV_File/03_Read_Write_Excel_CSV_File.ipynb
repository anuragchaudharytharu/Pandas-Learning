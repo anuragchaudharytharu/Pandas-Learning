{
 "cells": [
  {
   "cell_type": "code",
   "execution_count": 57,
   "id": "878e4cbe",
   "metadata": {},
   "outputs": [],
   "source": [
    "import pandas as pd"
   ]
  },
  {
   "cell_type": "code",
   "execution_count": 58,
   "id": "141af71c",
   "metadata": {},
   "outputs": [
    {
     "data": {
      "application/vnd.microsoft.datawrangler.viewer.v0+json": {
       "columns": [
        {
         "name": "index",
         "rawType": "int64",
         "type": "integer"
        },
        {
         "name": "tickers",
         "rawType": "object",
         "type": "string"
        },
        {
         "name": "eps",
         "rawType": "object",
         "type": "string"
        },
        {
         "name": "revenue",
         "rawType": "int64",
         "type": "integer"
        },
        {
         "name": "price",
         "rawType": "object",
         "type": "string"
        },
        {
         "name": "people",
         "rawType": "object",
         "type": "string"
        }
       ],
       "ref": "430796a0-d702-45e1-a90d-1dca6bcc6c14",
       "rows": [
        [
         "0",
         "GOOGL",
         "27.82",
         "87",
         "845",
         "larry page"
        ],
        [
         "1",
         "WMT",
         "4.61",
         "484",
         "65",
         "n.a."
        ],
        [
         "2",
         "MSFT",
         "-1",
         "85",
         "64",
         "bill gates"
        ],
        [
         "3",
         "RIL ",
         "not available",
         "50",
         "1023",
         "mukesh ambani"
        ],
        [
         "4",
         "TATA",
         "5.6",
         "-1",
         "n.a.",
         "ratan tata"
        ]
       ],
       "shape": {
        "columns": 5,
        "rows": 5
       }
      },
      "text/html": [
       "<div>\n",
       "<style scoped>\n",
       "    .dataframe tbody tr th:only-of-type {\n",
       "        vertical-align: middle;\n",
       "    }\n",
       "\n",
       "    .dataframe tbody tr th {\n",
       "        vertical-align: top;\n",
       "    }\n",
       "\n",
       "    .dataframe thead th {\n",
       "        text-align: right;\n",
       "    }\n",
       "</style>\n",
       "<table border=\"1\" class=\"dataframe\">\n",
       "  <thead>\n",
       "    <tr style=\"text-align: right;\">\n",
       "      <th></th>\n",
       "      <th>tickers</th>\n",
       "      <th>eps</th>\n",
       "      <th>revenue</th>\n",
       "      <th>price</th>\n",
       "      <th>people</th>\n",
       "    </tr>\n",
       "  </thead>\n",
       "  <tbody>\n",
       "    <tr>\n",
       "      <th>0</th>\n",
       "      <td>GOOGL</td>\n",
       "      <td>27.82</td>\n",
       "      <td>87</td>\n",
       "      <td>845</td>\n",
       "      <td>larry page</td>\n",
       "    </tr>\n",
       "    <tr>\n",
       "      <th>1</th>\n",
       "      <td>WMT</td>\n",
       "      <td>4.61</td>\n",
       "      <td>484</td>\n",
       "      <td>65</td>\n",
       "      <td>n.a.</td>\n",
       "    </tr>\n",
       "    <tr>\n",
       "      <th>2</th>\n",
       "      <td>MSFT</td>\n",
       "      <td>-1</td>\n",
       "      <td>85</td>\n",
       "      <td>64</td>\n",
       "      <td>bill gates</td>\n",
       "    </tr>\n",
       "    <tr>\n",
       "      <th>3</th>\n",
       "      <td>RIL</td>\n",
       "      <td>not available</td>\n",
       "      <td>50</td>\n",
       "      <td>1023</td>\n",
       "      <td>mukesh ambani</td>\n",
       "    </tr>\n",
       "    <tr>\n",
       "      <th>4</th>\n",
       "      <td>TATA</td>\n",
       "      <td>5.6</td>\n",
       "      <td>-1</td>\n",
       "      <td>n.a.</td>\n",
       "      <td>ratan tata</td>\n",
       "    </tr>\n",
       "  </tbody>\n",
       "</table>\n",
       "</div>"
      ],
      "text/plain": [
       "  tickers            eps  revenue price         people\n",
       "0   GOOGL          27.82       87   845     larry page\n",
       "1     WMT           4.61      484    65           n.a.\n",
       "2    MSFT             -1       85    64     bill gates\n",
       "3    RIL   not available       50  1023  mukesh ambani\n",
       "4    TATA            5.6       -1  n.a.     ratan tata"
      ]
     },
     "execution_count": 58,
     "metadata": {},
     "output_type": "execute_result"
    }
   ],
   "source": [
    "df = pd.read_csv(\"stock_data.csv\")\n",
    "df"
   ]
  },
  {
   "cell_type": "markdown",
   "id": "462cce6b",
   "metadata": {},
   "source": [
    "### Skips rows from top of the datas from reading\n",
    "    (skiprows = rowNumber)\n",
    "    original header is also considered a row\n",
    "rowIndex = rowNumber - 1\n",
    "\n",
    "rowIndex is now considered as new Header for the datas"
   ]
  },
  {
   "cell_type": "code",
   "execution_count": 59,
   "id": "e8322e13",
   "metadata": {},
   "outputs": [
    {
     "data": {
      "application/vnd.microsoft.datawrangler.viewer.v0+json": {
       "columns": [
        {
         "name": "index",
         "rawType": "int64",
         "type": "integer"
        },
        {
         "name": "WMT",
         "rawType": "object",
         "type": "string"
        },
        {
         "name": "4.61",
         "rawType": "object",
         "type": "string"
        },
        {
         "name": "484",
         "rawType": "int64",
         "type": "integer"
        },
        {
         "name": "65",
         "rawType": "object",
         "type": "string"
        },
        {
         "name": "n.a.",
         "rawType": "object",
         "type": "string"
        }
       ],
       "ref": "db6c835f-4cb8-46a9-b154-363a5b780e34",
       "rows": [
        [
         "0",
         "MSFT",
         "-1",
         "85",
         "64",
         "bill gates"
        ],
        [
         "1",
         "RIL ",
         "not available",
         "50",
         "1023",
         "mukesh ambani"
        ],
        [
         "2",
         "TATA",
         "5.6",
         "-1",
         "n.a.",
         "ratan tata"
        ]
       ],
       "shape": {
        "columns": 5,
        "rows": 3
       }
      },
      "text/html": [
       "<div>\n",
       "<style scoped>\n",
       "    .dataframe tbody tr th:only-of-type {\n",
       "        vertical-align: middle;\n",
       "    }\n",
       "\n",
       "    .dataframe tbody tr th {\n",
       "        vertical-align: top;\n",
       "    }\n",
       "\n",
       "    .dataframe thead th {\n",
       "        text-align: right;\n",
       "    }\n",
       "</style>\n",
       "<table border=\"1\" class=\"dataframe\">\n",
       "  <thead>\n",
       "    <tr style=\"text-align: right;\">\n",
       "      <th></th>\n",
       "      <th>WMT</th>\n",
       "      <th>4.61</th>\n",
       "      <th>484</th>\n",
       "      <th>65</th>\n",
       "      <th>n.a.</th>\n",
       "    </tr>\n",
       "  </thead>\n",
       "  <tbody>\n",
       "    <tr>\n",
       "      <th>0</th>\n",
       "      <td>MSFT</td>\n",
       "      <td>-1</td>\n",
       "      <td>85</td>\n",
       "      <td>64</td>\n",
       "      <td>bill gates</td>\n",
       "    </tr>\n",
       "    <tr>\n",
       "      <th>1</th>\n",
       "      <td>RIL</td>\n",
       "      <td>not available</td>\n",
       "      <td>50</td>\n",
       "      <td>1023</td>\n",
       "      <td>mukesh ambani</td>\n",
       "    </tr>\n",
       "    <tr>\n",
       "      <th>2</th>\n",
       "      <td>TATA</td>\n",
       "      <td>5.6</td>\n",
       "      <td>-1</td>\n",
       "      <td>n.a.</td>\n",
       "      <td>ratan tata</td>\n",
       "    </tr>\n",
       "  </tbody>\n",
       "</table>\n",
       "</div>"
      ],
      "text/plain": [
       "    WMT           4.61  484    65           n.a.\n",
       "0  MSFT             -1   85    64     bill gates\n",
       "1  RIL   not available   50  1023  mukesh ambani\n",
       "2  TATA            5.6   -1  n.a.     ratan tata"
      ]
     },
     "execution_count": 59,
     "metadata": {},
     "output_type": "execute_result"
    }
   ],
   "source": [
    "df = pd.read_csv(\"stock_data.csv\", skiprows = 2)\n",
    "df"
   ]
  },
  {
   "cell_type": "markdown",
   "id": "46c13517",
   "metadata": {},
   "source": [
    "### Specify a row as new Header from the data\n",
    "    (header = rowNumber)\n",
    "rowIndex = rowNumber - 1\n",
    "\n",
    "rowIndex is now considered as new Header for the datas"
   ]
  },
  {
   "cell_type": "code",
   "execution_count": 60,
   "id": "3c947ee8",
   "metadata": {},
   "outputs": [
    {
     "data": {
      "application/vnd.microsoft.datawrangler.viewer.v0+json": {
       "columns": [
        {
         "name": "index",
         "rawType": "int64",
         "type": "integer"
        },
        {
         "name": "WMT",
         "rawType": "object",
         "type": "string"
        },
        {
         "name": "4.61",
         "rawType": "object",
         "type": "string"
        },
        {
         "name": "484",
         "rawType": "int64",
         "type": "integer"
        },
        {
         "name": "65",
         "rawType": "object",
         "type": "string"
        },
        {
         "name": "n.a.",
         "rawType": "object",
         "type": "string"
        }
       ],
       "ref": "2ab230ca-8d6e-4d00-8b4b-4343ad2d2dce",
       "rows": [
        [
         "0",
         "MSFT",
         "-1",
         "85",
         "64",
         "bill gates"
        ],
        [
         "1",
         "RIL ",
         "not available",
         "50",
         "1023",
         "mukesh ambani"
        ],
        [
         "2",
         "TATA",
         "5.6",
         "-1",
         "n.a.",
         "ratan tata"
        ]
       ],
       "shape": {
        "columns": 5,
        "rows": 3
       }
      },
      "text/html": [
       "<div>\n",
       "<style scoped>\n",
       "    .dataframe tbody tr th:only-of-type {\n",
       "        vertical-align: middle;\n",
       "    }\n",
       "\n",
       "    .dataframe tbody tr th {\n",
       "        vertical-align: top;\n",
       "    }\n",
       "\n",
       "    .dataframe thead th {\n",
       "        text-align: right;\n",
       "    }\n",
       "</style>\n",
       "<table border=\"1\" class=\"dataframe\">\n",
       "  <thead>\n",
       "    <tr style=\"text-align: right;\">\n",
       "      <th></th>\n",
       "      <th>WMT</th>\n",
       "      <th>4.61</th>\n",
       "      <th>484</th>\n",
       "      <th>65</th>\n",
       "      <th>n.a.</th>\n",
       "    </tr>\n",
       "  </thead>\n",
       "  <tbody>\n",
       "    <tr>\n",
       "      <th>0</th>\n",
       "      <td>MSFT</td>\n",
       "      <td>-1</td>\n",
       "      <td>85</td>\n",
       "      <td>64</td>\n",
       "      <td>bill gates</td>\n",
       "    </tr>\n",
       "    <tr>\n",
       "      <th>1</th>\n",
       "      <td>RIL</td>\n",
       "      <td>not available</td>\n",
       "      <td>50</td>\n",
       "      <td>1023</td>\n",
       "      <td>mukesh ambani</td>\n",
       "    </tr>\n",
       "    <tr>\n",
       "      <th>2</th>\n",
       "      <td>TATA</td>\n",
       "      <td>5.6</td>\n",
       "      <td>-1</td>\n",
       "      <td>n.a.</td>\n",
       "      <td>ratan tata</td>\n",
       "    </tr>\n",
       "  </tbody>\n",
       "</table>\n",
       "</div>"
      ],
      "text/plain": [
       "    WMT           4.61  484    65           n.a.\n",
       "0  MSFT             -1   85    64     bill gates\n",
       "1  RIL   not available   50  1023  mukesh ambani\n",
       "2  TATA            5.6   -1  n.a.     ratan tata"
      ]
     },
     "execution_count": 60,
     "metadata": {},
     "output_type": "execute_result"
    }
   ],
   "source": [
    "df = pd.read_csv(\"stock_data.csv\", header=2)\n",
    "df"
   ]
  },
  {
   "cell_type": "markdown",
   "id": "811aeff1",
   "metadata": {},
   "source": [
    "### Create Custom Header for the data\n",
    "    (header=None, names = [\"headerName\", \"headerName\", ....])"
   ]
  },
  {
   "cell_type": "code",
   "execution_count": 61,
   "id": "e93da9a2",
   "metadata": {},
   "outputs": [
    {
     "data": {
      "application/vnd.microsoft.datawrangler.viewer.v0+json": {
       "columns": [
        {
         "name": "index",
         "rawType": "int64",
         "type": "integer"
        },
        {
         "name": "tiker",
         "rawType": "object",
         "type": "string"
        },
        {
         "name": "eps",
         "rawType": "object",
         "type": "string"
        },
        {
         "name": "revenue",
         "rawType": "int64",
         "type": "integer"
        },
        {
         "name": "price",
         "rawType": "object",
         "type": "string"
        },
        {
         "name": "people",
         "rawType": "object",
         "type": "string"
        }
       ],
       "ref": "df6a666f-f8f0-4115-b9a4-b9e28b615bca",
       "rows": [
        [
         "0",
         "GOOGL",
         "27.82",
         "87",
         "845",
         "larry page"
        ],
        [
         "1",
         "WMT",
         "4.61",
         "484",
         "65",
         "n.a."
        ],
        [
         "2",
         "MSFT",
         "-1",
         "85",
         "64",
         "bill gates"
        ],
        [
         "3",
         "RIL ",
         "not available",
         "50",
         "1023",
         "mukesh ambani"
        ],
        [
         "4",
         "TATA",
         "5.6",
         "-1",
         "n.a.",
         "ratan tata"
        ]
       ],
       "shape": {
        "columns": 5,
        "rows": 5
       }
      },
      "text/html": [
       "<div>\n",
       "<style scoped>\n",
       "    .dataframe tbody tr th:only-of-type {\n",
       "        vertical-align: middle;\n",
       "    }\n",
       "\n",
       "    .dataframe tbody tr th {\n",
       "        vertical-align: top;\n",
       "    }\n",
       "\n",
       "    .dataframe thead th {\n",
       "        text-align: right;\n",
       "    }\n",
       "</style>\n",
       "<table border=\"1\" class=\"dataframe\">\n",
       "  <thead>\n",
       "    <tr style=\"text-align: right;\">\n",
       "      <th></th>\n",
       "      <th>tiker</th>\n",
       "      <th>eps</th>\n",
       "      <th>revenue</th>\n",
       "      <th>price</th>\n",
       "      <th>people</th>\n",
       "    </tr>\n",
       "  </thead>\n",
       "  <tbody>\n",
       "    <tr>\n",
       "      <th>0</th>\n",
       "      <td>GOOGL</td>\n",
       "      <td>27.82</td>\n",
       "      <td>87</td>\n",
       "      <td>845</td>\n",
       "      <td>larry page</td>\n",
       "    </tr>\n",
       "    <tr>\n",
       "      <th>1</th>\n",
       "      <td>WMT</td>\n",
       "      <td>4.61</td>\n",
       "      <td>484</td>\n",
       "      <td>65</td>\n",
       "      <td>n.a.</td>\n",
       "    </tr>\n",
       "    <tr>\n",
       "      <th>2</th>\n",
       "      <td>MSFT</td>\n",
       "      <td>-1</td>\n",
       "      <td>85</td>\n",
       "      <td>64</td>\n",
       "      <td>bill gates</td>\n",
       "    </tr>\n",
       "    <tr>\n",
       "      <th>3</th>\n",
       "      <td>RIL</td>\n",
       "      <td>not available</td>\n",
       "      <td>50</td>\n",
       "      <td>1023</td>\n",
       "      <td>mukesh ambani</td>\n",
       "    </tr>\n",
       "    <tr>\n",
       "      <th>4</th>\n",
       "      <td>TATA</td>\n",
       "      <td>5.6</td>\n",
       "      <td>-1</td>\n",
       "      <td>n.a.</td>\n",
       "      <td>ratan tata</td>\n",
       "    </tr>\n",
       "  </tbody>\n",
       "</table>\n",
       "</div>"
      ],
      "text/plain": [
       "   tiker            eps  revenue price         people\n",
       "0  GOOGL          27.82       87   845     larry page\n",
       "1    WMT           4.61      484    65           n.a.\n",
       "2   MSFT             -1       85    64     bill gates\n",
       "3   RIL   not available       50  1023  mukesh ambani\n",
       "4   TATA            5.6       -1  n.a.     ratan tata"
      ]
     },
     "execution_count": 61,
     "metadata": {},
     "output_type": "execute_result"
    }
   ],
   "source": [
    "df = pd.read_csv(\"stock_data.csv\", skiprows=1, header=None, names=[\"tiker\", \"eps\", \"revenue\", \"price\", \"people\"])\n",
    "df"
   ]
  },
  {
   "cell_type": "markdown",
   "id": "0fc87cf5",
   "metadata": {},
   "source": [
    "### Read Limited Data from CSV file\n",
    "    (nrows = rowNumber)\n",
    "\n",
    "rowIndex = rowNumber - 1\n",
    "\n",
    "read data upto selected rowIndex from the file excluding Header"
   ]
  },
  {
   "cell_type": "code",
   "execution_count": 62,
   "id": "a483ed9c",
   "metadata": {},
   "outputs": [
    {
     "data": {
      "application/vnd.microsoft.datawrangler.viewer.v0+json": {
       "columns": [
        {
         "name": "index",
         "rawType": "int64",
         "type": "integer"
        },
        {
         "name": "tickers",
         "rawType": "object",
         "type": "string"
        },
        {
         "name": "eps",
         "rawType": "float64",
         "type": "float"
        },
        {
         "name": "revenue",
         "rawType": "int64",
         "type": "integer"
        },
        {
         "name": "price",
         "rawType": "int64",
         "type": "integer"
        },
        {
         "name": "people",
         "rawType": "object",
         "type": "string"
        }
       ],
       "ref": "816ccc0b-6eb6-43b1-9697-40fb9695fd97",
       "rows": [
        [
         "0",
         "GOOGL",
         "27.82",
         "87",
         "845",
         "larry page"
        ],
        [
         "1",
         "WMT",
         "4.61",
         "484",
         "65",
         "n.a."
        ],
        [
         "2",
         "MSFT",
         "-1.0",
         "85",
         "64",
         "bill gates"
        ]
       ],
       "shape": {
        "columns": 5,
        "rows": 3
       }
      },
      "text/html": [
       "<div>\n",
       "<style scoped>\n",
       "    .dataframe tbody tr th:only-of-type {\n",
       "        vertical-align: middle;\n",
       "    }\n",
       "\n",
       "    .dataframe tbody tr th {\n",
       "        vertical-align: top;\n",
       "    }\n",
       "\n",
       "    .dataframe thead th {\n",
       "        text-align: right;\n",
       "    }\n",
       "</style>\n",
       "<table border=\"1\" class=\"dataframe\">\n",
       "  <thead>\n",
       "    <tr style=\"text-align: right;\">\n",
       "      <th></th>\n",
       "      <th>tickers</th>\n",
       "      <th>eps</th>\n",
       "      <th>revenue</th>\n",
       "      <th>price</th>\n",
       "      <th>people</th>\n",
       "    </tr>\n",
       "  </thead>\n",
       "  <tbody>\n",
       "    <tr>\n",
       "      <th>0</th>\n",
       "      <td>GOOGL</td>\n",
       "      <td>27.82</td>\n",
       "      <td>87</td>\n",
       "      <td>845</td>\n",
       "      <td>larry page</td>\n",
       "    </tr>\n",
       "    <tr>\n",
       "      <th>1</th>\n",
       "      <td>WMT</td>\n",
       "      <td>4.61</td>\n",
       "      <td>484</td>\n",
       "      <td>65</td>\n",
       "      <td>n.a.</td>\n",
       "    </tr>\n",
       "    <tr>\n",
       "      <th>2</th>\n",
       "      <td>MSFT</td>\n",
       "      <td>-1.00</td>\n",
       "      <td>85</td>\n",
       "      <td>64</td>\n",
       "      <td>bill gates</td>\n",
       "    </tr>\n",
       "  </tbody>\n",
       "</table>\n",
       "</div>"
      ],
      "text/plain": [
       "  tickers    eps  revenue  price      people\n",
       "0   GOOGL  27.82       87    845  larry page\n",
       "1     WMT   4.61      484     65        n.a.\n",
       "2    MSFT  -1.00       85     64  bill gates"
      ]
     },
     "execution_count": 62,
     "metadata": {},
     "output_type": "execute_result"
    }
   ],
   "source": [
    "df = pd.read_csv(\"stock_data.csv\", nrows = 3)\n",
    "df"
   ]
  },
  {
   "cell_type": "markdown",
   "id": "ebcd3288",
   "metadata": {},
   "source": [
    "### Clean up messy data from file such as \"not available\" and \"n.a.\" with NaN using na_values"
   ]
  },
  {
   "cell_type": "markdown",
   "id": "fe5db1e7",
   "metadata": {},
   "source": [
    "        (na_values = [\"messyData_1\", \"messyData_2\"])\n",
    "\n",
    "NOTE: cleans up all the header messyDatas replacing with NaN"
   ]
  },
  {
   "cell_type": "code",
   "execution_count": 63,
   "id": "1d808ede",
   "metadata": {},
   "outputs": [
    {
     "data": {
      "application/vnd.microsoft.datawrangler.viewer.v0+json": {
       "columns": [
        {
         "name": "index",
         "rawType": "int64",
         "type": "integer"
        },
        {
         "name": "tickers",
         "rawType": "object",
         "type": "string"
        },
        {
         "name": "eps",
         "rawType": "float64",
         "type": "float"
        },
        {
         "name": "revenue",
         "rawType": "int64",
         "type": "integer"
        },
        {
         "name": "price",
         "rawType": "float64",
         "type": "float"
        },
        {
         "name": "people",
         "rawType": "object",
         "type": "unknown"
        }
       ],
       "ref": "c56fbdf2-572f-41a2-937b-d5a13558f286",
       "rows": [
        [
         "0",
         "GOOGL",
         "27.82",
         "87",
         "845.0",
         "larry page"
        ],
        [
         "1",
         "WMT",
         "4.61",
         "484",
         "65.0",
         null
        ],
        [
         "2",
         "MSFT",
         "-1.0",
         "85",
         "64.0",
         "bill gates"
        ],
        [
         "3",
         "RIL ",
         null,
         "50",
         "1023.0",
         "mukesh ambani"
        ],
        [
         "4",
         "TATA",
         "5.6",
         "-1",
         null,
         "ratan tata"
        ]
       ],
       "shape": {
        "columns": 5,
        "rows": 5
       }
      },
      "text/html": [
       "<div>\n",
       "<style scoped>\n",
       "    .dataframe tbody tr th:only-of-type {\n",
       "        vertical-align: middle;\n",
       "    }\n",
       "\n",
       "    .dataframe tbody tr th {\n",
       "        vertical-align: top;\n",
       "    }\n",
       "\n",
       "    .dataframe thead th {\n",
       "        text-align: right;\n",
       "    }\n",
       "</style>\n",
       "<table border=\"1\" class=\"dataframe\">\n",
       "  <thead>\n",
       "    <tr style=\"text-align: right;\">\n",
       "      <th></th>\n",
       "      <th>tickers</th>\n",
       "      <th>eps</th>\n",
       "      <th>revenue</th>\n",
       "      <th>price</th>\n",
       "      <th>people</th>\n",
       "    </tr>\n",
       "  </thead>\n",
       "  <tbody>\n",
       "    <tr>\n",
       "      <th>0</th>\n",
       "      <td>GOOGL</td>\n",
       "      <td>27.82</td>\n",
       "      <td>87</td>\n",
       "      <td>845.0</td>\n",
       "      <td>larry page</td>\n",
       "    </tr>\n",
       "    <tr>\n",
       "      <th>1</th>\n",
       "      <td>WMT</td>\n",
       "      <td>4.61</td>\n",
       "      <td>484</td>\n",
       "      <td>65.0</td>\n",
       "      <td>NaN</td>\n",
       "    </tr>\n",
       "    <tr>\n",
       "      <th>2</th>\n",
       "      <td>MSFT</td>\n",
       "      <td>-1.00</td>\n",
       "      <td>85</td>\n",
       "      <td>64.0</td>\n",
       "      <td>bill gates</td>\n",
       "    </tr>\n",
       "    <tr>\n",
       "      <th>3</th>\n",
       "      <td>RIL</td>\n",
       "      <td>NaN</td>\n",
       "      <td>50</td>\n",
       "      <td>1023.0</td>\n",
       "      <td>mukesh ambani</td>\n",
       "    </tr>\n",
       "    <tr>\n",
       "      <th>4</th>\n",
       "      <td>TATA</td>\n",
       "      <td>5.60</td>\n",
       "      <td>-1</td>\n",
       "      <td>NaN</td>\n",
       "      <td>ratan tata</td>\n",
       "    </tr>\n",
       "  </tbody>\n",
       "</table>\n",
       "</div>"
      ],
      "text/plain": [
       "  tickers    eps  revenue   price         people\n",
       "0   GOOGL  27.82       87   845.0     larry page\n",
       "1     WMT   4.61      484    65.0            NaN\n",
       "2    MSFT  -1.00       85    64.0     bill gates\n",
       "3    RIL     NaN       50  1023.0  mukesh ambani\n",
       "4    TATA   5.60       -1     NaN     ratan tata"
      ]
     },
     "execution_count": 63,
     "metadata": {},
     "output_type": "execute_result"
    }
   ],
   "source": [
    "df = pd.read_csv(\"stock_data.csv\", na_values=[\"not available\", \"n.a.\"])\n",
    "df"
   ]
  },
  {
   "cell_type": "markdown",
   "id": "24851800",
   "metadata": {},
   "source": [
    "    (na_values = {\n",
    "        \"columnName_1\": [\"messyData_1\", \"messyData_2\"],\n",
    "        \"columnName_2\": [\"messyData_1\", \"messyData_2\", \"messyData_3],\n",
    "        })\n",
    "\n",
    "NOTE: cleans up only specified header i.e columnName messyDatas replacing with NaN"
   ]
  },
  {
   "cell_type": "code",
   "execution_count": 64,
   "id": "addc6f47",
   "metadata": {},
   "outputs": [
    {
     "data": {
      "application/vnd.microsoft.datawrangler.viewer.v0+json": {
       "columns": [
        {
         "name": "index",
         "rawType": "int64",
         "type": "integer"
        },
        {
         "name": "tickers",
         "rawType": "object",
         "type": "string"
        },
        {
         "name": "eps",
         "rawType": "float64",
         "type": "float"
        },
        {
         "name": "revenue",
         "rawType": "float64",
         "type": "float"
        },
        {
         "name": "price",
         "rawType": "float64",
         "type": "float"
        },
        {
         "name": "people",
         "rawType": "object",
         "type": "unknown"
        }
       ],
       "ref": "c296632f-4f30-474e-ba30-b6ed18d5edbf",
       "rows": [
        [
         "0",
         "GOOGL",
         "27.82",
         "87.0",
         "845.0",
         "larry page"
        ],
        [
         "1",
         "WMT",
         "4.61",
         "484.0",
         "65.0",
         null
        ],
        [
         "2",
         "MSFT",
         "-1.0",
         "85.0",
         "64.0",
         "bill gates"
        ],
        [
         "3",
         "RIL ",
         null,
         "50.0",
         "1023.0",
         "mukesh ambani"
        ],
        [
         "4",
         "TATA",
         "5.6",
         null,
         null,
         "ratan tata"
        ]
       ],
       "shape": {
        "columns": 5,
        "rows": 5
       }
      },
      "text/html": [
       "<div>\n",
       "<style scoped>\n",
       "    .dataframe tbody tr th:only-of-type {\n",
       "        vertical-align: middle;\n",
       "    }\n",
       "\n",
       "    .dataframe tbody tr th {\n",
       "        vertical-align: top;\n",
       "    }\n",
       "\n",
       "    .dataframe thead th {\n",
       "        text-align: right;\n",
       "    }\n",
       "</style>\n",
       "<table border=\"1\" class=\"dataframe\">\n",
       "  <thead>\n",
       "    <tr style=\"text-align: right;\">\n",
       "      <th></th>\n",
       "      <th>tickers</th>\n",
       "      <th>eps</th>\n",
       "      <th>revenue</th>\n",
       "      <th>price</th>\n",
       "      <th>people</th>\n",
       "    </tr>\n",
       "  </thead>\n",
       "  <tbody>\n",
       "    <tr>\n",
       "      <th>0</th>\n",
       "      <td>GOOGL</td>\n",
       "      <td>27.82</td>\n",
       "      <td>87.0</td>\n",
       "      <td>845.0</td>\n",
       "      <td>larry page</td>\n",
       "    </tr>\n",
       "    <tr>\n",
       "      <th>1</th>\n",
       "      <td>WMT</td>\n",
       "      <td>4.61</td>\n",
       "      <td>484.0</td>\n",
       "      <td>65.0</td>\n",
       "      <td>NaN</td>\n",
       "    </tr>\n",
       "    <tr>\n",
       "      <th>2</th>\n",
       "      <td>MSFT</td>\n",
       "      <td>-1.00</td>\n",
       "      <td>85.0</td>\n",
       "      <td>64.0</td>\n",
       "      <td>bill gates</td>\n",
       "    </tr>\n",
       "    <tr>\n",
       "      <th>3</th>\n",
       "      <td>RIL</td>\n",
       "      <td>NaN</td>\n",
       "      <td>50.0</td>\n",
       "      <td>1023.0</td>\n",
       "      <td>mukesh ambani</td>\n",
       "    </tr>\n",
       "    <tr>\n",
       "      <th>4</th>\n",
       "      <td>TATA</td>\n",
       "      <td>5.60</td>\n",
       "      <td>NaN</td>\n",
       "      <td>NaN</td>\n",
       "      <td>ratan tata</td>\n",
       "    </tr>\n",
       "  </tbody>\n",
       "</table>\n",
       "</div>"
      ],
      "text/plain": [
       "  tickers    eps  revenue   price         people\n",
       "0   GOOGL  27.82     87.0   845.0     larry page\n",
       "1     WMT   4.61    484.0    65.0            NaN\n",
       "2    MSFT  -1.00     85.0    64.0     bill gates\n",
       "3    RIL     NaN     50.0  1023.0  mukesh ambani\n",
       "4    TATA   5.60      NaN     NaN     ratan tata"
      ]
     },
     "execution_count": 64,
     "metadata": {},
     "output_type": "execute_result"
    }
   ],
   "source": [
    "df = pd.read_csv(\"stock_data.csv\", na_values = {\n",
    "    \"eps\" : [\"not available\", \"n.a.\"],\n",
    "    \"revenue\" : [\"not available\", \"n.a.\", -1],\n",
    "    \"people\" : [\"not available\", \"n.a.\"],   \n",
    "    \"price\" : [\"not available\", \"n.a.\", -1],   \n",
    "})\n",
    "df"
   ]
  },
  {
   "cell_type": "markdown",
   "id": "2bfa4882",
   "metadata": {},
   "source": [
    "### Create New CSV File\n",
    "    .to_csv(\"fileSource\", index = True, header = True, columns = [\"columnName_1\", \"columnName_2\"])\n",
    "\n",
    "By default there get index number when we create a new csv file and header too\n",
    "\n",
    "If the file is already exist, it overwites the file"
   ]
  },
  {
   "cell_type": "markdown",
   "id": "d993583f",
   "metadata": {},
   "source": [
    "No Index\n",
    "\n",
    "    .to_csv(\"fileSource\", index=False)"
   ]
  },
  {
   "cell_type": "code",
   "execution_count": 65,
   "id": "cf66f179",
   "metadata": {},
   "outputs": [
    {
     "data": {
      "application/vnd.microsoft.datawrangler.viewer.v0+json": {
       "columns": [
        {
         "name": "index",
         "rawType": "int64",
         "type": "integer"
        },
        {
         "name": "tickers",
         "rawType": "object",
         "type": "string"
        },
        {
         "name": "eps",
         "rawType": "float64",
         "type": "float"
        },
        {
         "name": "revenue",
         "rawType": "float64",
         "type": "float"
        },
        {
         "name": "price",
         "rawType": "float64",
         "type": "float"
        },
        {
         "name": "people",
         "rawType": "object",
         "type": "unknown"
        }
       ],
       "ref": "26a4da5f-4070-40a0-b223-def7b93fa2b7",
       "rows": [
        [
         "0",
         "GOOGL",
         "27.82",
         "87.0",
         "845.0",
         "larry page"
        ],
        [
         "1",
         "WMT",
         "4.61",
         "484.0",
         "65.0",
         null
        ],
        [
         "2",
         "MSFT",
         "-1.0",
         "85.0",
         "64.0",
         "bill gates"
        ],
        [
         "3",
         "RIL ",
         null,
         "50.0",
         "1023.0",
         "mukesh ambani"
        ],
        [
         "4",
         "TATA",
         "5.6",
         null,
         null,
         "ratan tata"
        ]
       ],
       "shape": {
        "columns": 5,
        "rows": 5
       }
      },
      "text/html": [
       "<div>\n",
       "<style scoped>\n",
       "    .dataframe tbody tr th:only-of-type {\n",
       "        vertical-align: middle;\n",
       "    }\n",
       "\n",
       "    .dataframe tbody tr th {\n",
       "        vertical-align: top;\n",
       "    }\n",
       "\n",
       "    .dataframe thead th {\n",
       "        text-align: right;\n",
       "    }\n",
       "</style>\n",
       "<table border=\"1\" class=\"dataframe\">\n",
       "  <thead>\n",
       "    <tr style=\"text-align: right;\">\n",
       "      <th></th>\n",
       "      <th>tickers</th>\n",
       "      <th>eps</th>\n",
       "      <th>revenue</th>\n",
       "      <th>price</th>\n",
       "      <th>people</th>\n",
       "    </tr>\n",
       "  </thead>\n",
       "  <tbody>\n",
       "    <tr>\n",
       "      <th>0</th>\n",
       "      <td>GOOGL</td>\n",
       "      <td>27.82</td>\n",
       "      <td>87.0</td>\n",
       "      <td>845.0</td>\n",
       "      <td>larry page</td>\n",
       "    </tr>\n",
       "    <tr>\n",
       "      <th>1</th>\n",
       "      <td>WMT</td>\n",
       "      <td>4.61</td>\n",
       "      <td>484.0</td>\n",
       "      <td>65.0</td>\n",
       "      <td>NaN</td>\n",
       "    </tr>\n",
       "    <tr>\n",
       "      <th>2</th>\n",
       "      <td>MSFT</td>\n",
       "      <td>-1.00</td>\n",
       "      <td>85.0</td>\n",
       "      <td>64.0</td>\n",
       "      <td>bill gates</td>\n",
       "    </tr>\n",
       "    <tr>\n",
       "      <th>3</th>\n",
       "      <td>RIL</td>\n",
       "      <td>NaN</td>\n",
       "      <td>50.0</td>\n",
       "      <td>1023.0</td>\n",
       "      <td>mukesh ambani</td>\n",
       "    </tr>\n",
       "    <tr>\n",
       "      <th>4</th>\n",
       "      <td>TATA</td>\n",
       "      <td>5.60</td>\n",
       "      <td>NaN</td>\n",
       "      <td>NaN</td>\n",
       "      <td>ratan tata</td>\n",
       "    </tr>\n",
       "  </tbody>\n",
       "</table>\n",
       "</div>"
      ],
      "text/plain": [
       "  tickers    eps  revenue   price         people\n",
       "0   GOOGL  27.82     87.0   845.0     larry page\n",
       "1     WMT   4.61    484.0    65.0            NaN\n",
       "2    MSFT  -1.00     85.0    64.0     bill gates\n",
       "3    RIL     NaN     50.0  1023.0  mukesh ambani\n",
       "4    TATA   5.60      NaN     NaN     ratan tata"
      ]
     },
     "execution_count": 65,
     "metadata": {},
     "output_type": "execute_result"
    }
   ],
   "source": [
    "df.to_csv(\"new.csv\", index=False)\n",
    "df"
   ]
  },
  {
   "cell_type": "markdown",
   "id": "73cb50f9",
   "metadata": {},
   "source": [
    "### No Index and No Header\n",
    "\n",
    "    .to_csv(\"fileSource\", index=False, header=False)"
   ]
  },
  {
   "cell_type": "code",
   "execution_count": 66,
   "id": "d01280d8",
   "metadata": {},
   "outputs": [
    {
     "data": {
      "application/vnd.microsoft.datawrangler.viewer.v0+json": {
       "columns": [
        {
         "name": "index",
         "rawType": "int64",
         "type": "integer"
        },
        {
         "name": "tickers",
         "rawType": "object",
         "type": "string"
        },
        {
         "name": "eps",
         "rawType": "float64",
         "type": "float"
        },
        {
         "name": "revenue",
         "rawType": "float64",
         "type": "float"
        },
        {
         "name": "price",
         "rawType": "float64",
         "type": "float"
        },
        {
         "name": "people",
         "rawType": "object",
         "type": "unknown"
        }
       ],
       "ref": "15db1727-837d-4748-ac05-4ae1b2f816d9",
       "rows": [
        [
         "0",
         "GOOGL",
         "27.82",
         "87.0",
         "845.0",
         "larry page"
        ],
        [
         "1",
         "WMT",
         "4.61",
         "484.0",
         "65.0",
         null
        ],
        [
         "2",
         "MSFT",
         "-1.0",
         "85.0",
         "64.0",
         "bill gates"
        ],
        [
         "3",
         "RIL ",
         null,
         "50.0",
         "1023.0",
         "mukesh ambani"
        ],
        [
         "4",
         "TATA",
         "5.6",
         null,
         null,
         "ratan tata"
        ]
       ],
       "shape": {
        "columns": 5,
        "rows": 5
       }
      },
      "text/html": [
       "<div>\n",
       "<style scoped>\n",
       "    .dataframe tbody tr th:only-of-type {\n",
       "        vertical-align: middle;\n",
       "    }\n",
       "\n",
       "    .dataframe tbody tr th {\n",
       "        vertical-align: top;\n",
       "    }\n",
       "\n",
       "    .dataframe thead th {\n",
       "        text-align: right;\n",
       "    }\n",
       "</style>\n",
       "<table border=\"1\" class=\"dataframe\">\n",
       "  <thead>\n",
       "    <tr style=\"text-align: right;\">\n",
       "      <th></th>\n",
       "      <th>tickers</th>\n",
       "      <th>eps</th>\n",
       "      <th>revenue</th>\n",
       "      <th>price</th>\n",
       "      <th>people</th>\n",
       "    </tr>\n",
       "  </thead>\n",
       "  <tbody>\n",
       "    <tr>\n",
       "      <th>0</th>\n",
       "      <td>GOOGL</td>\n",
       "      <td>27.82</td>\n",
       "      <td>87.0</td>\n",
       "      <td>845.0</td>\n",
       "      <td>larry page</td>\n",
       "    </tr>\n",
       "    <tr>\n",
       "      <th>1</th>\n",
       "      <td>WMT</td>\n",
       "      <td>4.61</td>\n",
       "      <td>484.0</td>\n",
       "      <td>65.0</td>\n",
       "      <td>NaN</td>\n",
       "    </tr>\n",
       "    <tr>\n",
       "      <th>2</th>\n",
       "      <td>MSFT</td>\n",
       "      <td>-1.00</td>\n",
       "      <td>85.0</td>\n",
       "      <td>64.0</td>\n",
       "      <td>bill gates</td>\n",
       "    </tr>\n",
       "    <tr>\n",
       "      <th>3</th>\n",
       "      <td>RIL</td>\n",
       "      <td>NaN</td>\n",
       "      <td>50.0</td>\n",
       "      <td>1023.0</td>\n",
       "      <td>mukesh ambani</td>\n",
       "    </tr>\n",
       "    <tr>\n",
       "      <th>4</th>\n",
       "      <td>TATA</td>\n",
       "      <td>5.60</td>\n",
       "      <td>NaN</td>\n",
       "      <td>NaN</td>\n",
       "      <td>ratan tata</td>\n",
       "    </tr>\n",
       "  </tbody>\n",
       "</table>\n",
       "</div>"
      ],
      "text/plain": [
       "  tickers    eps  revenue   price         people\n",
       "0   GOOGL  27.82     87.0   845.0     larry page\n",
       "1     WMT   4.61    484.0    65.0            NaN\n",
       "2    MSFT  -1.00     85.0    64.0     bill gates\n",
       "3    RIL     NaN     50.0  1023.0  mukesh ambani\n",
       "4    TATA   5.60      NaN     NaN     ratan tata"
      ]
     },
     "execution_count": 66,
     "metadata": {},
     "output_type": "execute_result"
    }
   ],
   "source": [
    "df.to_csv(\"new.csv\", index=False, header=False)\n",
    "df"
   ]
  },
  {
   "cell_type": "markdown",
   "id": "a9b33e59",
   "metadata": {},
   "source": [
    "### Custom Headers\n",
    "\n",
    "    .to_csv(\"fileSource\", columns=[\"columnName_1\", \"columnName_2\"])"
   ]
  },
  {
   "cell_type": "code",
   "execution_count": 67,
   "id": "fbb86af1",
   "metadata": {},
   "outputs": [
    {
     "data": {
      "application/vnd.microsoft.datawrangler.viewer.v0+json": {
       "columns": [
        {
         "name": "index",
         "rawType": "int64",
         "type": "integer"
        },
        {
         "name": "tickers",
         "rawType": "object",
         "type": "string"
        },
        {
         "name": "eps",
         "rawType": "float64",
         "type": "float"
        },
        {
         "name": "revenue",
         "rawType": "float64",
         "type": "float"
        },
        {
         "name": "price",
         "rawType": "float64",
         "type": "float"
        },
        {
         "name": "people",
         "rawType": "object",
         "type": "unknown"
        }
       ],
       "ref": "67b6a415-8cac-4364-8f5e-6be63cdd23d1",
       "rows": [
        [
         "0",
         "GOOGL",
         "27.82",
         "87.0",
         "845.0",
         "larry page"
        ],
        [
         "1",
         "WMT",
         "4.61",
         "484.0",
         "65.0",
         null
        ],
        [
         "2",
         "MSFT",
         "-1.0",
         "85.0",
         "64.0",
         "bill gates"
        ],
        [
         "3",
         "RIL ",
         null,
         "50.0",
         "1023.0",
         "mukesh ambani"
        ],
        [
         "4",
         "TATA",
         "5.6",
         null,
         null,
         "ratan tata"
        ]
       ],
       "shape": {
        "columns": 5,
        "rows": 5
       }
      },
      "text/html": [
       "<div>\n",
       "<style scoped>\n",
       "    .dataframe tbody tr th:only-of-type {\n",
       "        vertical-align: middle;\n",
       "    }\n",
       "\n",
       "    .dataframe tbody tr th {\n",
       "        vertical-align: top;\n",
       "    }\n",
       "\n",
       "    .dataframe thead th {\n",
       "        text-align: right;\n",
       "    }\n",
       "</style>\n",
       "<table border=\"1\" class=\"dataframe\">\n",
       "  <thead>\n",
       "    <tr style=\"text-align: right;\">\n",
       "      <th></th>\n",
       "      <th>tickers</th>\n",
       "      <th>eps</th>\n",
       "      <th>revenue</th>\n",
       "      <th>price</th>\n",
       "      <th>people</th>\n",
       "    </tr>\n",
       "  </thead>\n",
       "  <tbody>\n",
       "    <tr>\n",
       "      <th>0</th>\n",
       "      <td>GOOGL</td>\n",
       "      <td>27.82</td>\n",
       "      <td>87.0</td>\n",
       "      <td>845.0</td>\n",
       "      <td>larry page</td>\n",
       "    </tr>\n",
       "    <tr>\n",
       "      <th>1</th>\n",
       "      <td>WMT</td>\n",
       "      <td>4.61</td>\n",
       "      <td>484.0</td>\n",
       "      <td>65.0</td>\n",
       "      <td>NaN</td>\n",
       "    </tr>\n",
       "    <tr>\n",
       "      <th>2</th>\n",
       "      <td>MSFT</td>\n",
       "      <td>-1.00</td>\n",
       "      <td>85.0</td>\n",
       "      <td>64.0</td>\n",
       "      <td>bill gates</td>\n",
       "    </tr>\n",
       "    <tr>\n",
       "      <th>3</th>\n",
       "      <td>RIL</td>\n",
       "      <td>NaN</td>\n",
       "      <td>50.0</td>\n",
       "      <td>1023.0</td>\n",
       "      <td>mukesh ambani</td>\n",
       "    </tr>\n",
       "    <tr>\n",
       "      <th>4</th>\n",
       "      <td>TATA</td>\n",
       "      <td>5.60</td>\n",
       "      <td>NaN</td>\n",
       "      <td>NaN</td>\n",
       "      <td>ratan tata</td>\n",
       "    </tr>\n",
       "  </tbody>\n",
       "</table>\n",
       "</div>"
      ],
      "text/plain": [
       "  tickers    eps  revenue   price         people\n",
       "0   GOOGL  27.82     87.0   845.0     larry page\n",
       "1     WMT   4.61    484.0    65.0            NaN\n",
       "2    MSFT  -1.00     85.0    64.0     bill gates\n",
       "3    RIL     NaN     50.0  1023.0  mukesh ambani\n",
       "4    TATA   5.60      NaN     NaN     ratan tata"
      ]
     },
     "execution_count": 67,
     "metadata": {},
     "output_type": "execute_result"
    }
   ],
   "source": [
    "df.to_csv(\"new.csv\", index=False, columns=[\"tickers\", \"eps\"])\n",
    "df"
   ]
  },
  {
   "cell_type": "markdown",
   "id": "a3037046",
   "metadata": {},
   "source": [
    "### Converters arguement in read_excel() mehtod\n",
    "            .read_excel(\"fileSource\", sheetName = \"sheetName\", converters = {\n",
    "                \"columnName1\": function1,\n",
    "                \"columnName2\": function2,\n",
    "            })\n",
    "Convert messy or unwanted datas to required custom data"
   ]
  },
  {
   "cell_type": "code",
   "execution_count": 68,
   "id": "e7c1023a",
   "metadata": {},
   "outputs": [
    {
     "data": {
      "application/vnd.microsoft.datawrangler.viewer.v0+json": {
       "columns": [
        {
         "name": "index",
         "rawType": "int64",
         "type": "integer"
        },
        {
         "name": "tickers",
         "rawType": "object",
         "type": "string"
        },
        {
         "name": "eps",
         "rawType": "float64",
         "type": "float"
        },
        {
         "name": "revenue",
         "rawType": "int64",
         "type": "integer"
        },
        {
         "name": "price",
         "rawType": "object",
         "type": "unknown"
        },
        {
         "name": "people",
         "rawType": "object",
         "type": "string"
        }
       ],
       "ref": "4f737229-d85c-4f10-8473-45c272893a6d",
       "rows": [
        [
         "0",
         "GOOGL",
         "27.82",
         "87",
         "845",
         "larry page"
        ],
        [
         "1",
         "WMT",
         "4.61",
         "484",
         "65",
         "sam walton"
        ],
        [
         "2",
         "MSFT",
         "-1.0",
         "85",
         "64",
         "bill gates"
        ],
        [
         "3",
         "RIL ",
         null,
         "50",
         "1023",
         "mukesh ambani"
        ],
        [
         "4",
         "TATA",
         "5.6",
         "-1",
         "n.a.",
         "ratan tata"
        ]
       ],
       "shape": {
        "columns": 5,
        "rows": 5
       }
      },
      "text/html": [
       "<div>\n",
       "<style scoped>\n",
       "    .dataframe tbody tr th:only-of-type {\n",
       "        vertical-align: middle;\n",
       "    }\n",
       "\n",
       "    .dataframe tbody tr th {\n",
       "        vertical-align: top;\n",
       "    }\n",
       "\n",
       "    .dataframe thead th {\n",
       "        text-align: right;\n",
       "    }\n",
       "</style>\n",
       "<table border=\"1\" class=\"dataframe\">\n",
       "  <thead>\n",
       "    <tr style=\"text-align: right;\">\n",
       "      <th></th>\n",
       "      <th>tickers</th>\n",
       "      <th>eps</th>\n",
       "      <th>revenue</th>\n",
       "      <th>price</th>\n",
       "      <th>people</th>\n",
       "    </tr>\n",
       "  </thead>\n",
       "  <tbody>\n",
       "    <tr>\n",
       "      <th>0</th>\n",
       "      <td>GOOGL</td>\n",
       "      <td>27.82</td>\n",
       "      <td>87</td>\n",
       "      <td>845</td>\n",
       "      <td>larry page</td>\n",
       "    </tr>\n",
       "    <tr>\n",
       "      <th>1</th>\n",
       "      <td>WMT</td>\n",
       "      <td>4.61</td>\n",
       "      <td>484</td>\n",
       "      <td>65</td>\n",
       "      <td>sam walton</td>\n",
       "    </tr>\n",
       "    <tr>\n",
       "      <th>2</th>\n",
       "      <td>MSFT</td>\n",
       "      <td>-1.00</td>\n",
       "      <td>85</td>\n",
       "      <td>64</td>\n",
       "      <td>bill gates</td>\n",
       "    </tr>\n",
       "    <tr>\n",
       "      <th>3</th>\n",
       "      <td>RIL</td>\n",
       "      <td>NaN</td>\n",
       "      <td>50</td>\n",
       "      <td>1023</td>\n",
       "      <td>mukesh ambani</td>\n",
       "    </tr>\n",
       "    <tr>\n",
       "      <th>4</th>\n",
       "      <td>TATA</td>\n",
       "      <td>5.60</td>\n",
       "      <td>-1</td>\n",
       "      <td>n.a.</td>\n",
       "      <td>ratan tata</td>\n",
       "    </tr>\n",
       "  </tbody>\n",
       "</table>\n",
       "</div>"
      ],
      "text/plain": [
       "  tickers    eps  revenue price         people\n",
       "0   GOOGL  27.82       87   845     larry page\n",
       "1     WMT   4.61      484    65     sam walton\n",
       "2    MSFT  -1.00       85    64     bill gates\n",
       "3    RIL     NaN       50  1023  mukesh ambani\n",
       "4    TATA   5.60       -1  n.a.     ratan tata"
      ]
     },
     "execution_count": 68,
     "metadata": {},
     "output_type": "execute_result"
    }
   ],
   "source": [
    "def conver_people_cell(cell):\n",
    "    if cell == \"n.a.\":\n",
    "        return \"sam walton\"\n",
    "    return cell\n",
    "\n",
    "def conver_eps_cell(cell):\n",
    "    if cell == \"not available\":\n",
    "        return None\n",
    "    return cell\n",
    "\n",
    "df = pd.read_excel(\"stock_data.xlsx\", sheet_name = \"Sheet1\", converters = {\n",
    "    \"people\": conver_people_cell,\n",
    "    \"eps\": conver_eps_cell\n",
    "})\n",
    "df"
   ]
  },
  {
   "cell_type": "markdown",
   "id": "5e41b09c",
   "metadata": {},
   "source": [
    "### start row and start column\n",
    "        .to_excel(\"fileSource\", sheet_ame=\"sheetName\", startrow = rowNumber, startcol = columnNumber)"
   ]
  },
  {
   "cell_type": "code",
   "execution_count": null,
   "id": "7520aee4",
   "metadata": {},
   "outputs": [],
   "source": [
    "df.to_excel(\"new.xlsx\", sheet_name=\"stocks\", index=False, startrow=1, startcol=2)\n",
    "    "
   ]
  },
  {
   "cell_type": "markdown",
   "id": "7592309b",
   "metadata": {},
   "source": [
    "### use ExcelWriter() class\n",
    "        with pd.ExcelWriter(\"fileSource\") as writerName:\n",
    "            df1.to_excel(writerName, sheet_name=\"Sheet1\")\n",
    "            df2.to_excel(writerName, sheet_name=\"Sheet2\")\n",
    "To write the datas in same file but in different sheets"
   ]
  },
  {
   "cell_type": "code",
   "execution_count": 75,
   "id": "f17e575d",
   "metadata": {},
   "outputs": [],
   "source": [
    "df_stocks = pd.DataFrame({\n",
    "    \"tickers\": [\"GOOGL\", \"WMT\", \"MSFT\"],\n",
    "    \"price\": [845, 65, 64],\n",
    "    \"pe\": [30.37, 14.26, 30.97],\n",
    "    \"eps\": [27.82, 4.61, 2.12]\n",
    "})\n",
    "\n",
    "df_weather = pd.DataFrame({\n",
    "    \"day\": [\"1/1/2017\", \"1/2/2017\", \"1/3/2017\"],\n",
    "    \"temperature\": [32, 35, 28],\n",
    "    \"event\": [\"Rain\", \"Sunny\", \"Snow\"]\n",
    "})\n",
    "\n",
    "\n",
    "with pd.ExcelWriter(\"stocks_weather.xlsx\") as writer:\n",
    "    df_stocks.to_excel(writer, sheet_name=\"stocks\")\n",
    "    df_weather.to_excel(writer, sheet_name=\"weather\")"
   ]
  }
 ],
 "metadata": {
  "kernelspec": {
   "display_name": "myenv",
   "language": "python",
   "name": "python3"
  },
  "language_info": {
   "codemirror_mode": {
    "name": "ipython",
    "version": 3
   },
   "file_extension": ".py",
   "mimetype": "text/x-python",
   "name": "python",
   "nbconvert_exporter": "python",
   "pygments_lexer": "ipython3",
   "version": "3.13.5"
  }
 },
 "nbformat": 4,
 "nbformat_minor": 5
}
