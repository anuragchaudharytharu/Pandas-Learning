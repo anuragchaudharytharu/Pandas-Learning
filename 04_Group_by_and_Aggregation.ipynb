{
 "cells": [
  {
   "cell_type": "markdown",
   "id": "9acc94d8",
   "metadata": {},
   "source": [
    "# Group by and Aggregating"
   ]
  },
  {
   "cell_type": "code",
   "execution_count": 1,
   "id": "5072b6e2",
   "metadata": {},
   "outputs": [],
   "source": [
    "import pandas as pd"
   ]
  },
  {
   "cell_type": "code",
   "execution_count": 2,
   "id": "daad6ddf",
   "metadata": {},
   "outputs": [
    {
     "data": {
      "application/vnd.microsoft.datawrangler.viewer.v0+json": {
       "columns": [
        {
         "name": "index",
         "rawType": "int64",
         "type": "integer"
        },
        {
         "name": "Category",
         "rawType": "object",
         "type": "string"
        },
        {
         "name": "Store",
         "rawType": "object",
         "type": "string"
        },
        {
         "name": "Sales",
         "rawType": "int64",
         "type": "integer"
        },
        {
         "name": "Quantity",
         "rawType": "int64",
         "type": "integer"
        },
        {
         "name": "Date",
         "rawType": "datetime64[ns]",
         "type": "datetime"
        }
       ],
       "ref": "4b4dec93-6401-41f5-934c-d8d4efa1a2d2",
       "rows": [
        [
         "0",
         "A",
         "S1",
         "100",
         "10",
         "2023-01-01 00:00:00"
        ],
        [
         "1",
         "B",
         "S1",
         "200",
         "15",
         "2023-01-02 00:00:00"
        ],
        [
         "2",
         "A",
         "S2",
         "150",
         "12",
         "2023-01-03 00:00:00"
        ],
        [
         "3",
         "B",
         "S2",
         "250",
         "18",
         "2023-01-04 00:00:00"
        ],
        [
         "4",
         "A",
         "S1",
         "120",
         "8",
         "2023-01-05 00:00:00"
        ],
        [
         "5",
         "B",
         "S2",
         "180",
         "20",
         "2023-01-06 00:00:00"
        ],
        [
         "6",
         "A",
         "S2",
         "200",
         "15",
         "2023-01-07 00:00:00"
        ],
        [
         "7",
         "B",
         "S1",
         "300",
         "25",
         "2023-01-08 00:00:00"
        ]
       ],
       "shape": {
        "columns": 5,
        "rows": 8
       }
      },
      "text/html": [
       "<div>\n",
       "<style scoped>\n",
       "    .dataframe tbody tr th:only-of-type {\n",
       "        vertical-align: middle;\n",
       "    }\n",
       "\n",
       "    .dataframe tbody tr th {\n",
       "        vertical-align: top;\n",
       "    }\n",
       "\n",
       "    .dataframe thead th {\n",
       "        text-align: right;\n",
       "    }\n",
       "</style>\n",
       "<table border=\"1\" class=\"dataframe\">\n",
       "  <thead>\n",
       "    <tr style=\"text-align: right;\">\n",
       "      <th></th>\n",
       "      <th>Category</th>\n",
       "      <th>Store</th>\n",
       "      <th>Sales</th>\n",
       "      <th>Quantity</th>\n",
       "      <th>Date</th>\n",
       "    </tr>\n",
       "  </thead>\n",
       "  <tbody>\n",
       "    <tr>\n",
       "      <th>0</th>\n",
       "      <td>A</td>\n",
       "      <td>S1</td>\n",
       "      <td>100</td>\n",
       "      <td>10</td>\n",
       "      <td>2023-01-01</td>\n",
       "    </tr>\n",
       "    <tr>\n",
       "      <th>1</th>\n",
       "      <td>B</td>\n",
       "      <td>S1</td>\n",
       "      <td>200</td>\n",
       "      <td>15</td>\n",
       "      <td>2023-01-02</td>\n",
       "    </tr>\n",
       "    <tr>\n",
       "      <th>2</th>\n",
       "      <td>A</td>\n",
       "      <td>S2</td>\n",
       "      <td>150</td>\n",
       "      <td>12</td>\n",
       "      <td>2023-01-03</td>\n",
       "    </tr>\n",
       "    <tr>\n",
       "      <th>3</th>\n",
       "      <td>B</td>\n",
       "      <td>S2</td>\n",
       "      <td>250</td>\n",
       "      <td>18</td>\n",
       "      <td>2023-01-04</td>\n",
       "    </tr>\n",
       "    <tr>\n",
       "      <th>4</th>\n",
       "      <td>A</td>\n",
       "      <td>S1</td>\n",
       "      <td>120</td>\n",
       "      <td>8</td>\n",
       "      <td>2023-01-05</td>\n",
       "    </tr>\n",
       "    <tr>\n",
       "      <th>5</th>\n",
       "      <td>B</td>\n",
       "      <td>S2</td>\n",
       "      <td>180</td>\n",
       "      <td>20</td>\n",
       "      <td>2023-01-06</td>\n",
       "    </tr>\n",
       "    <tr>\n",
       "      <th>6</th>\n",
       "      <td>A</td>\n",
       "      <td>S2</td>\n",
       "      <td>200</td>\n",
       "      <td>15</td>\n",
       "      <td>2023-01-07</td>\n",
       "    </tr>\n",
       "    <tr>\n",
       "      <th>7</th>\n",
       "      <td>B</td>\n",
       "      <td>S1</td>\n",
       "      <td>300</td>\n",
       "      <td>25</td>\n",
       "      <td>2023-01-08</td>\n",
       "    </tr>\n",
       "  </tbody>\n",
       "</table>\n",
       "</div>"
      ],
      "text/plain": [
       "  Category Store  Sales  Quantity       Date\n",
       "0        A    S1    100        10 2023-01-01\n",
       "1        B    S1    200        15 2023-01-02\n",
       "2        A    S2    150        12 2023-01-03\n",
       "3        B    S2    250        18 2023-01-04\n",
       "4        A    S1    120         8 2023-01-05\n",
       "5        B    S2    180        20 2023-01-06\n",
       "6        A    S2    200        15 2023-01-07\n",
       "7        B    S1    300        25 2023-01-08"
      ]
     },
     "execution_count": 2,
     "metadata": {},
     "output_type": "execute_result"
    }
   ],
   "source": [
    "data = {\n",
    "    'Category': ['A', 'B', 'A', 'B', 'A', 'B', 'A', 'B'],\n",
    "    'Store': ['S1', 'S1', 'S2', 'S2', 'S1', 'S2', 'S2', 'S1'],\n",
    "    'Sales': [100, 200, 150, 250, 120, 180, 200, 300],\n",
    "    'Quantity': [10, 15, 12, 18, 8, 20, 15, 25],\n",
    "    'Date': pd.date_range('2023-01-01', periods=8)\n",
    "}\n",
    "df = pd.DataFrame(data)\n",
    "df"
   ]
  },
  {
   "cell_type": "markdown",
   "id": "95fa35bd",
   "metadata": {},
   "source": [
    "## Groupby\n",
    "\n",
    "Group by is gonna group the similar values in a column and display them all in same row\n",
    "\n",
    "This allows us to perform aggregate functions on those groupings"
   ]
  },
  {
   "cell_type": "code",
   "execution_count": 3,
   "id": "d7190a55",
   "metadata": {},
   "outputs": [
    {
     "name": "stdout",
     "output_type": "stream",
     "text": [
      "A\n",
      "  Category Store  Sales  Quantity       Date\n",
      "0        A    S1    100        10 2023-01-01\n",
      "2        A    S2    150        12 2023-01-03\n",
      "4        A    S1    120         8 2023-01-05\n",
      "6        A    S2    200        15 2023-01-07\n",
      "B\n",
      "  Category Store  Sales  Quantity       Date\n",
      "1        B    S1    200        15 2023-01-02\n",
      "3        B    S2    250        18 2023-01-04\n",
      "5        B    S2    180        20 2023-01-06\n",
      "7        B    S1    300        25 2023-01-08\n"
     ]
    }
   ],
   "source": [
    "cat = df.groupby(\"Category\")\n",
    "cat #groupby creates an object which we cannot see. So here cat is such object\n",
    "\n",
    "# to see the content of the cat object when we use groupby function, we can use loops for it\n",
    "for i, v in cat:\n",
    "    print(i)\n",
    "    print(v)"
   ]
  },
  {
   "cell_type": "code",
   "execution_count": 4,
   "id": "a567d462",
   "metadata": {},
   "outputs": [
    {
     "data": {
      "application/vnd.microsoft.datawrangler.viewer.v0+json": {
       "columns": [
        {
         "name": "Category",
         "rawType": "object",
         "type": "string"
        },
        {
         "name": "Sales",
         "rawType": "int64",
         "type": "integer"
        }
       ],
       "ref": "ee42d216-b3d5-4564-ac29-fdfe496c7c56",
       "rows": [
        [
         "A",
         "570"
        ],
        [
         "B",
         "930"
        ]
       ],
       "shape": {
        "columns": 1,
        "rows": 2
       }
      },
      "text/plain": [
       "Category\n",
       "A    570\n",
       "B    930\n",
       "Name: Sales, dtype: int64"
      ]
     },
     "execution_count": 4,
     "metadata": {},
     "output_type": "execute_result"
    }
   ],
   "source": [
    "#Group by Category and calculate the sum of Sales\n",
    "\n",
    "cat = df.groupby(\"Category\")[\"Sales\"].sum()\n",
    "cat"
   ]
  },
  {
   "cell_type": "code",
   "execution_count": 5,
   "id": "b3a53fb0",
   "metadata": {},
   "outputs": [
    {
     "data": {
      "application/vnd.microsoft.datawrangler.viewer.v0+json": {
       "columns": [
        {
         "name": "Store",
         "rawType": "object",
         "type": "string"
        },
        {
         "name": "Sales",
         "rawType": "int64",
         "type": "integer"
        }
       ],
       "ref": "eeac4a4e-c59b-4dd4-a6f9-670604ae4f09",
       "rows": [
        [
         "S1",
         "720"
        ],
        [
         "S2",
         "780"
        ]
       ],
       "shape": {
        "columns": 1,
        "rows": 2
       }
      },
      "text/plain": [
       "Store\n",
       "S1    720\n",
       "S2    780\n",
       "Name: Sales, dtype: int64"
      ]
     },
     "execution_count": 5,
     "metadata": {},
     "output_type": "execute_result"
    }
   ],
   "source": [
    "#Group by Store and calculate the sum of Sales\n",
    "cat = df.groupby(\"Store\")[\"Sales\"].sum()\n",
    "cat"
   ]
  },
  {
   "cell_type": "markdown",
   "id": "ae7aba0f",
   "metadata": {},
   "source": [
    "#### Group by Multiple columns"
   ]
  },
  {
   "cell_type": "code",
   "execution_count": 6,
   "id": "11ddc322",
   "metadata": {},
   "outputs": [
    {
     "data": {
      "application/vnd.microsoft.datawrangler.viewer.v0+json": {
       "columns": [
        {
         "name": "('Category', 'Store')",
         "rawType": "object",
         "type": "unknown"
        },
        {
         "name": "Sales",
         "rawType": "int64",
         "type": "integer"
        }
       ],
       "ref": "b336fa25-8074-4f22-a67d-ae1466c4037c",
       "rows": [
        [
         "('A', 'S1')",
         "220"
        ],
        [
         "('A', 'S2')",
         "350"
        ],
        [
         "('B', 'S1')",
         "500"
        ],
        [
         "('B', 'S2')",
         "430"
        ]
       ],
       "shape": {
        "columns": 1,
        "rows": 4
       }
      },
      "text/plain": [
       "Category  Store\n",
       "A         S1       220\n",
       "          S2       350\n",
       "B         S1       500\n",
       "          S2       430\n",
       "Name: Sales, dtype: int64"
      ]
     },
     "execution_count": 6,
     "metadata": {},
     "output_type": "execute_result"
    }
   ],
   "source": [
    "#Group by Category and Store\n",
    "cat = df.groupby([\"Category\", \"Store\"])[\"Sales\"].sum()\n",
    "cat"
   ]
  },
  {
   "cell_type": "code",
   "execution_count": 7,
   "id": "1888806a",
   "metadata": {},
   "outputs": [
    {
     "data": {
      "application/vnd.microsoft.datawrangler.viewer.v0+json": {
       "columns": [
        {
         "name": "index",
         "rawType": "int64",
         "type": "integer"
        },
        {
         "name": "Flavor",
         "rawType": "object",
         "type": "string"
        },
        {
         "name": "Base Flavor",
         "rawType": "object",
         "type": "string"
        },
        {
         "name": "Liked",
         "rawType": "object",
         "type": "string"
        },
        {
         "name": "Flavor Rating",
         "rawType": "float64",
         "type": "float"
        },
        {
         "name": "Texture Rating",
         "rawType": "float64",
         "type": "float"
        },
        {
         "name": "Total Rating",
         "rawType": "float64",
         "type": "float"
        }
       ],
       "ref": "f02bc0f2-9165-416d-8f8d-4d160f0e4267",
       "rows": [
        [
         "0",
         "Mint Chocolate Chip",
         "Vanilla",
         "Yes",
         "10.0",
         "8.0",
         "18.0"
        ],
        [
         "1",
         "Chocolate",
         "Chocolate",
         "Yes",
         "8.8",
         "7.6",
         "16.6"
        ],
        [
         "2",
         "Vanilla",
         "Vanilla",
         "No",
         "4.7",
         "5.0",
         "9.7"
        ],
        [
         "3",
         "Cookie Dough",
         "Vanilla",
         "Yes",
         "6.9",
         "6.5",
         "13.4"
        ],
        [
         "4",
         "Rocky Road",
         "Chocolate",
         "Yes",
         "8.2",
         "7.0",
         "15.2"
        ],
        [
         "5",
         "Pistachio",
         "Vanilla",
         "No",
         "2.3",
         "3.4",
         "5.7"
        ],
        [
         "6",
         "Cake Batter",
         "Vanilla",
         "Yes",
         "6.5",
         "6.0",
         "12.5"
        ],
        [
         "7",
         "Neapolitan",
         "Vanilla",
         "No",
         "3.8",
         "5.0",
         "8.8"
        ],
        [
         "8",
         "Chocolte Fudge Brownie",
         "Chocolate",
         "Yes",
         "8.2",
         "7.1",
         "15.3"
        ]
       ],
       "shape": {
        "columns": 6,
        "rows": 9
       }
      },
      "text/html": [
       "<div>\n",
       "<style scoped>\n",
       "    .dataframe tbody tr th:only-of-type {\n",
       "        vertical-align: middle;\n",
       "    }\n",
       "\n",
       "    .dataframe tbody tr th {\n",
       "        vertical-align: top;\n",
       "    }\n",
       "\n",
       "    .dataframe thead th {\n",
       "        text-align: right;\n",
       "    }\n",
       "</style>\n",
       "<table border=\"1\" class=\"dataframe\">\n",
       "  <thead>\n",
       "    <tr style=\"text-align: right;\">\n",
       "      <th></th>\n",
       "      <th>Flavor</th>\n",
       "      <th>Base Flavor</th>\n",
       "      <th>Liked</th>\n",
       "      <th>Flavor Rating</th>\n",
       "      <th>Texture Rating</th>\n",
       "      <th>Total Rating</th>\n",
       "    </tr>\n",
       "  </thead>\n",
       "  <tbody>\n",
       "    <tr>\n",
       "      <th>0</th>\n",
       "      <td>Mint Chocolate Chip</td>\n",
       "      <td>Vanilla</td>\n",
       "      <td>Yes</td>\n",
       "      <td>10.0</td>\n",
       "      <td>8.0</td>\n",
       "      <td>18.0</td>\n",
       "    </tr>\n",
       "    <tr>\n",
       "      <th>1</th>\n",
       "      <td>Chocolate</td>\n",
       "      <td>Chocolate</td>\n",
       "      <td>Yes</td>\n",
       "      <td>8.8</td>\n",
       "      <td>7.6</td>\n",
       "      <td>16.6</td>\n",
       "    </tr>\n",
       "    <tr>\n",
       "      <th>2</th>\n",
       "      <td>Vanilla</td>\n",
       "      <td>Vanilla</td>\n",
       "      <td>No</td>\n",
       "      <td>4.7</td>\n",
       "      <td>5.0</td>\n",
       "      <td>9.7</td>\n",
       "    </tr>\n",
       "    <tr>\n",
       "      <th>3</th>\n",
       "      <td>Cookie Dough</td>\n",
       "      <td>Vanilla</td>\n",
       "      <td>Yes</td>\n",
       "      <td>6.9</td>\n",
       "      <td>6.5</td>\n",
       "      <td>13.4</td>\n",
       "    </tr>\n",
       "    <tr>\n",
       "      <th>4</th>\n",
       "      <td>Rocky Road</td>\n",
       "      <td>Chocolate</td>\n",
       "      <td>Yes</td>\n",
       "      <td>8.2</td>\n",
       "      <td>7.0</td>\n",
       "      <td>15.2</td>\n",
       "    </tr>\n",
       "    <tr>\n",
       "      <th>5</th>\n",
       "      <td>Pistachio</td>\n",
       "      <td>Vanilla</td>\n",
       "      <td>No</td>\n",
       "      <td>2.3</td>\n",
       "      <td>3.4</td>\n",
       "      <td>5.7</td>\n",
       "    </tr>\n",
       "    <tr>\n",
       "      <th>6</th>\n",
       "      <td>Cake Batter</td>\n",
       "      <td>Vanilla</td>\n",
       "      <td>Yes</td>\n",
       "      <td>6.5</td>\n",
       "      <td>6.0</td>\n",
       "      <td>12.5</td>\n",
       "    </tr>\n",
       "    <tr>\n",
       "      <th>7</th>\n",
       "      <td>Neapolitan</td>\n",
       "      <td>Vanilla</td>\n",
       "      <td>No</td>\n",
       "      <td>3.8</td>\n",
       "      <td>5.0</td>\n",
       "      <td>8.8</td>\n",
       "    </tr>\n",
       "    <tr>\n",
       "      <th>8</th>\n",
       "      <td>Chocolte Fudge Brownie</td>\n",
       "      <td>Chocolate</td>\n",
       "      <td>Yes</td>\n",
       "      <td>8.2</td>\n",
       "      <td>7.1</td>\n",
       "      <td>15.3</td>\n",
       "    </tr>\n",
       "  </tbody>\n",
       "</table>\n",
       "</div>"
      ],
      "text/plain": [
       "                   Flavor Base Flavor Liked  Flavor Rating  Texture Rating  \\\n",
       "0     Mint Chocolate Chip     Vanilla   Yes           10.0             8.0   \n",
       "1               Chocolate   Chocolate   Yes            8.8             7.6   \n",
       "2                 Vanilla     Vanilla    No            4.7             5.0   \n",
       "3            Cookie Dough     Vanilla   Yes            6.9             6.5   \n",
       "4              Rocky Road   Chocolate   Yes            8.2             7.0   \n",
       "5               Pistachio     Vanilla    No            2.3             3.4   \n",
       "6             Cake Batter     Vanilla   Yes            6.5             6.0   \n",
       "7              Neapolitan     Vanilla    No            3.8             5.0   \n",
       "8  Chocolte Fudge Brownie   Chocolate   Yes            8.2             7.1   \n",
       "\n",
       "   Total Rating  \n",
       "0          18.0  \n",
       "1          16.6  \n",
       "2           9.7  \n",
       "3          13.4  \n",
       "4          15.2  \n",
       "5           5.7  \n",
       "6          12.5  \n",
       "7           8.8  \n",
       "8          15.3  "
      ]
     },
     "execution_count": 7,
     "metadata": {},
     "output_type": "execute_result"
    }
   ],
   "source": [
    "df2 = pd.read_csv(\"Flavors.csv\")\n",
    "df2"
   ]
  },
  {
   "cell_type": "code",
   "execution_count": 8,
   "id": "5a2fb5e7",
   "metadata": {},
   "outputs": [
    {
     "data": {
      "application/vnd.microsoft.datawrangler.viewer.v0+json": {
       "columns": [
        {
         "name": "('Flavor', 'Base Flavor', 'Liked')",
         "rawType": "object",
         "type": "unknown"
        },
        {
         "name": "Flavor Rating",
         "rawType": "float64",
         "type": "float"
        },
        {
         "name": "Texture Rating",
         "rawType": "float64",
         "type": "float"
        },
        {
         "name": "Total Rating",
         "rawType": "float64",
         "type": "float"
        }
       ],
       "ref": "b6edd323-b27a-4c2b-9f96-3d5ec8c42c63",
       "rows": [
        [
         "('Cake Batter', 'Vanilla', 'Yes')",
         "6.5",
         "6.0",
         "12.5"
        ],
        [
         "('Chocolate', 'Chocolate', 'Yes')",
         "8.8",
         "7.6",
         "16.6"
        ],
        [
         "('Chocolte Fudge Brownie', 'Chocolate', 'Yes')",
         "8.2",
         "7.1",
         "15.3"
        ],
        [
         "('Cookie Dough', 'Vanilla', 'Yes')",
         "6.9",
         "6.5",
         "13.4"
        ],
        [
         "('Mint Chocolate Chip', 'Vanilla', 'Yes')",
         "10.0",
         "8.0",
         "18.0"
        ],
        [
         "('Neapolitan', 'Vanilla', 'No')",
         "3.8",
         "5.0",
         "8.8"
        ],
        [
         "('Pistachio', 'Vanilla', 'No')",
         "2.3",
         "3.4",
         "5.7"
        ],
        [
         "('Rocky Road', 'Chocolate', 'Yes')",
         "8.2",
         "7.0",
         "15.2"
        ],
        [
         "('Vanilla', 'Vanilla', 'No')",
         "4.7",
         "5.0",
         "9.7"
        ]
       ],
       "shape": {
        "columns": 3,
        "rows": 9
       }
      },
      "text/html": [
       "<div>\n",
       "<style scoped>\n",
       "    .dataframe tbody tr th:only-of-type {\n",
       "        vertical-align: middle;\n",
       "    }\n",
       "\n",
       "    .dataframe tbody tr th {\n",
       "        vertical-align: top;\n",
       "    }\n",
       "\n",
       "    .dataframe thead th {\n",
       "        text-align: right;\n",
       "    }\n",
       "</style>\n",
       "<table border=\"1\" class=\"dataframe\">\n",
       "  <thead>\n",
       "    <tr style=\"text-align: right;\">\n",
       "      <th></th>\n",
       "      <th></th>\n",
       "      <th></th>\n",
       "      <th>Flavor Rating</th>\n",
       "      <th>Texture Rating</th>\n",
       "      <th>Total Rating</th>\n",
       "    </tr>\n",
       "    <tr>\n",
       "      <th>Flavor</th>\n",
       "      <th>Base Flavor</th>\n",
       "      <th>Liked</th>\n",
       "      <th></th>\n",
       "      <th></th>\n",
       "      <th></th>\n",
       "    </tr>\n",
       "  </thead>\n",
       "  <tbody>\n",
       "    <tr>\n",
       "      <th>Cake Batter</th>\n",
       "      <th>Vanilla</th>\n",
       "      <th>Yes</th>\n",
       "      <td>6.5</td>\n",
       "      <td>6.0</td>\n",
       "      <td>12.5</td>\n",
       "    </tr>\n",
       "    <tr>\n",
       "      <th>Chocolate</th>\n",
       "      <th>Chocolate</th>\n",
       "      <th>Yes</th>\n",
       "      <td>8.8</td>\n",
       "      <td>7.6</td>\n",
       "      <td>16.6</td>\n",
       "    </tr>\n",
       "    <tr>\n",
       "      <th>Chocolte Fudge Brownie</th>\n",
       "      <th>Chocolate</th>\n",
       "      <th>Yes</th>\n",
       "      <td>8.2</td>\n",
       "      <td>7.1</td>\n",
       "      <td>15.3</td>\n",
       "    </tr>\n",
       "    <tr>\n",
       "      <th>Cookie Dough</th>\n",
       "      <th>Vanilla</th>\n",
       "      <th>Yes</th>\n",
       "      <td>6.9</td>\n",
       "      <td>6.5</td>\n",
       "      <td>13.4</td>\n",
       "    </tr>\n",
       "    <tr>\n",
       "      <th>Mint Chocolate Chip</th>\n",
       "      <th>Vanilla</th>\n",
       "      <th>Yes</th>\n",
       "      <td>10.0</td>\n",
       "      <td>8.0</td>\n",
       "      <td>18.0</td>\n",
       "    </tr>\n",
       "    <tr>\n",
       "      <th>Neapolitan</th>\n",
       "      <th>Vanilla</th>\n",
       "      <th>No</th>\n",
       "      <td>3.8</td>\n",
       "      <td>5.0</td>\n",
       "      <td>8.8</td>\n",
       "    </tr>\n",
       "    <tr>\n",
       "      <th>Pistachio</th>\n",
       "      <th>Vanilla</th>\n",
       "      <th>No</th>\n",
       "      <td>2.3</td>\n",
       "      <td>3.4</td>\n",
       "      <td>5.7</td>\n",
       "    </tr>\n",
       "    <tr>\n",
       "      <th>Rocky Road</th>\n",
       "      <th>Chocolate</th>\n",
       "      <th>Yes</th>\n",
       "      <td>8.2</td>\n",
       "      <td>7.0</td>\n",
       "      <td>15.2</td>\n",
       "    </tr>\n",
       "    <tr>\n",
       "      <th>Vanilla</th>\n",
       "      <th>Vanilla</th>\n",
       "      <th>No</th>\n",
       "      <td>4.7</td>\n",
       "      <td>5.0</td>\n",
       "      <td>9.7</td>\n",
       "    </tr>\n",
       "  </tbody>\n",
       "</table>\n",
       "</div>"
      ],
      "text/plain": [
       "                                          Flavor Rating  Texture Rating  \\\n",
       "Flavor                 Base Flavor Liked                                  \n",
       "Cake Batter            Vanilla     Yes              6.5             6.0   \n",
       "Chocolate              Chocolate   Yes              8.8             7.6   \n",
       "Chocolte Fudge Brownie Chocolate   Yes              8.2             7.1   \n",
       "Cookie Dough           Vanilla     Yes              6.9             6.5   \n",
       "Mint Chocolate Chip    Vanilla     Yes             10.0             8.0   \n",
       "Neapolitan             Vanilla     No               3.8             5.0   \n",
       "Pistachio              Vanilla     No               2.3             3.4   \n",
       "Rocky Road             Chocolate   Yes              8.2             7.0   \n",
       "Vanilla                Vanilla     No               4.7             5.0   \n",
       "\n",
       "                                          Total Rating  \n",
       "Flavor                 Base Flavor Liked                \n",
       "Cake Batter            Vanilla     Yes            12.5  \n",
       "Chocolate              Chocolate   Yes            16.6  \n",
       "Chocolte Fudge Brownie Chocolate   Yes            15.3  \n",
       "Cookie Dough           Vanilla     Yes            13.4  \n",
       "Mint Chocolate Chip    Vanilla     Yes            18.0  \n",
       "Neapolitan             Vanilla     No              8.8  \n",
       "Pistachio              Vanilla     No              5.7  \n",
       "Rocky Road             Chocolate   Yes            15.2  \n",
       "Vanilla                Vanilla     No              9.7  "
      ]
     },
     "execution_count": 8,
     "metadata": {},
     "output_type": "execute_result"
    }
   ],
   "source": [
    "df2.groupby([\"Flavor\", \"Base Flavor\", \"Liked\"]).mean()"
   ]
  },
  {
   "cell_type": "markdown",
   "id": "9b7845e5",
   "metadata": {},
   "source": [
    "### Aggregation\n",
    "\n",
    "Taking a group of values and summarizing them into one value.\n",
    "\n",
    "Aggregation functions that are 90% of the time are grien below:\n",
    "\n",
    "| Function    | Description               |\n",
    "| ----------- | ------------------------- |\n",
    "| `mean()`    | Average value             |\n",
    "| `sum()`     | Total value               |\n",
    "| `min()`     | Minimum value             |\n",
    "| `max()`     | Maximum value             |\n",
    "| `count()`   | Number of non-null values |\n",
    "| `nunique()` | Number of unique values   |\n",
    "| `median()`  | Median (middle value)     |\n",
    "| `std()`     | Standard deviation        |\n"
   ]
  },
  {
   "cell_type": "code",
   "execution_count": 9,
   "id": "4e563d56",
   "metadata": {},
   "outputs": [
    {
     "data": {
      "application/vnd.microsoft.datawrangler.viewer.v0+json": {
       "columns": [
        {
         "name": "index",
         "rawType": "int64",
         "type": "integer"
        },
        {
         "name": "Category",
         "rawType": "object",
         "type": "string"
        },
        {
         "name": "Store",
         "rawType": "object",
         "type": "string"
        },
        {
         "name": "Sales",
         "rawType": "int64",
         "type": "integer"
        },
        {
         "name": "Quantity",
         "rawType": "int64",
         "type": "integer"
        },
        {
         "name": "Date",
         "rawType": "datetime64[ns]",
         "type": "datetime"
        }
       ],
       "ref": "895c157a-c658-4f4d-b26d-ae1a0ebb0e03",
       "rows": [
        [
         "0",
         "A",
         "S1",
         "100",
         "10",
         "2023-01-01 00:00:00"
        ],
        [
         "1",
         "B",
         "S1",
         "200",
         "15",
         "2023-01-02 00:00:00"
        ],
        [
         "2",
         "A",
         "S2",
         "150",
         "12",
         "2023-01-03 00:00:00"
        ],
        [
         "3",
         "B",
         "S2",
         "250",
         "18",
         "2023-01-04 00:00:00"
        ],
        [
         "4",
         "A",
         "S1",
         "120",
         "8",
         "2023-01-05 00:00:00"
        ],
        [
         "5",
         "B",
         "S2",
         "180",
         "20",
         "2023-01-06 00:00:00"
        ],
        [
         "6",
         "A",
         "S2",
         "200",
         "15",
         "2023-01-07 00:00:00"
        ],
        [
         "7",
         "B",
         "S1",
         "300",
         "25",
         "2023-01-08 00:00:00"
        ]
       ],
       "shape": {
        "columns": 5,
        "rows": 8
       }
      },
      "text/html": [
       "<div>\n",
       "<style scoped>\n",
       "    .dataframe tbody tr th:only-of-type {\n",
       "        vertical-align: middle;\n",
       "    }\n",
       "\n",
       "    .dataframe tbody tr th {\n",
       "        vertical-align: top;\n",
       "    }\n",
       "\n",
       "    .dataframe thead th {\n",
       "        text-align: right;\n",
       "    }\n",
       "</style>\n",
       "<table border=\"1\" class=\"dataframe\">\n",
       "  <thead>\n",
       "    <tr style=\"text-align: right;\">\n",
       "      <th></th>\n",
       "      <th>Category</th>\n",
       "      <th>Store</th>\n",
       "      <th>Sales</th>\n",
       "      <th>Quantity</th>\n",
       "      <th>Date</th>\n",
       "    </tr>\n",
       "  </thead>\n",
       "  <tbody>\n",
       "    <tr>\n",
       "      <th>0</th>\n",
       "      <td>A</td>\n",
       "      <td>S1</td>\n",
       "      <td>100</td>\n",
       "      <td>10</td>\n",
       "      <td>2023-01-01</td>\n",
       "    </tr>\n",
       "    <tr>\n",
       "      <th>1</th>\n",
       "      <td>B</td>\n",
       "      <td>S1</td>\n",
       "      <td>200</td>\n",
       "      <td>15</td>\n",
       "      <td>2023-01-02</td>\n",
       "    </tr>\n",
       "    <tr>\n",
       "      <th>2</th>\n",
       "      <td>A</td>\n",
       "      <td>S2</td>\n",
       "      <td>150</td>\n",
       "      <td>12</td>\n",
       "      <td>2023-01-03</td>\n",
       "    </tr>\n",
       "    <tr>\n",
       "      <th>3</th>\n",
       "      <td>B</td>\n",
       "      <td>S2</td>\n",
       "      <td>250</td>\n",
       "      <td>18</td>\n",
       "      <td>2023-01-04</td>\n",
       "    </tr>\n",
       "    <tr>\n",
       "      <th>4</th>\n",
       "      <td>A</td>\n",
       "      <td>S1</td>\n",
       "      <td>120</td>\n",
       "      <td>8</td>\n",
       "      <td>2023-01-05</td>\n",
       "    </tr>\n",
       "    <tr>\n",
       "      <th>5</th>\n",
       "      <td>B</td>\n",
       "      <td>S2</td>\n",
       "      <td>180</td>\n",
       "      <td>20</td>\n",
       "      <td>2023-01-06</td>\n",
       "    </tr>\n",
       "    <tr>\n",
       "      <th>6</th>\n",
       "      <td>A</td>\n",
       "      <td>S2</td>\n",
       "      <td>200</td>\n",
       "      <td>15</td>\n",
       "      <td>2023-01-07</td>\n",
       "    </tr>\n",
       "    <tr>\n",
       "      <th>7</th>\n",
       "      <td>B</td>\n",
       "      <td>S1</td>\n",
       "      <td>300</td>\n",
       "      <td>25</td>\n",
       "      <td>2023-01-08</td>\n",
       "    </tr>\n",
       "  </tbody>\n",
       "</table>\n",
       "</div>"
      ],
      "text/plain": [
       "  Category Store  Sales  Quantity       Date\n",
       "0        A    S1    100        10 2023-01-01\n",
       "1        B    S1    200        15 2023-01-02\n",
       "2        A    S2    150        12 2023-01-03\n",
       "3        B    S2    250        18 2023-01-04\n",
       "4        A    S1    120         8 2023-01-05\n",
       "5        B    S2    180        20 2023-01-06\n",
       "6        A    S2    200        15 2023-01-07\n",
       "7        B    S1    300        25 2023-01-08"
      ]
     },
     "execution_count": 9,
     "metadata": {},
     "output_type": "execute_result"
    }
   ],
   "source": [
    "df"
   ]
  },
  {
   "cell_type": "code",
   "execution_count": 15,
   "id": "fa0478b7",
   "metadata": {},
   "outputs": [
    {
     "data": {
      "text/plain": [
       "np.float64(190.0)"
      ]
     },
     "execution_count": 15,
     "metadata": {},
     "output_type": "execute_result"
    }
   ],
   "source": [
    "df[\"Sales\"].median()"
   ]
  },
  {
   "cell_type": "code",
   "execution_count": 17,
   "id": "4ffbf50a",
   "metadata": {},
   "outputs": [
    {
     "data": {
      "application/vnd.microsoft.datawrangler.viewer.v0+json": {
       "columns": [
        {
         "name": "index",
         "rawType": "object",
         "type": "string"
        },
        {
         "name": "Sales",
         "rawType": "float64",
         "type": "float"
        }
       ],
       "ref": "304f983a-4195-4496-844f-852928e0e6d6",
       "rows": [
        [
         "sum",
         "1500.0"
        ],
        [
         "mean",
         "187.5"
        ],
        [
         "median",
         "190.0"
        ],
        [
         "min",
         "100.0"
        ],
        [
         "max",
         "300.0"
        ],
        [
         "std",
         "66.06274074155351"
        ],
        [
         "count",
         "8.0"
        ]
       ],
       "shape": {
        "columns": 1,
        "rows": 7
       }
      },
      "text/plain": [
       "sum       1500.000000\n",
       "mean       187.500000\n",
       "median     190.000000\n",
       "min        100.000000\n",
       "max        300.000000\n",
       "std         66.062741\n",
       "count        8.000000\n",
       "Name: Sales, dtype: float64"
      ]
     },
     "execution_count": 17,
     "metadata": {},
     "output_type": "execute_result"
    }
   ],
   "source": [
    "df[\"Sales\"].agg([\"sum\", \"mean\", \"median\", \"min\", \"max\", \"std\", \"count\"])"
   ]
  },
  {
   "cell_type": "code",
   "execution_count": 20,
   "id": "e3b1eae3",
   "metadata": {},
   "outputs": [
    {
     "data": {
      "application/vnd.microsoft.datawrangler.viewer.v0+json": {
       "columns": [
        {
         "name": "index",
         "rawType": "int64",
         "type": "integer"
        },
        {
         "name": "Flavor",
         "rawType": "object",
         "type": "string"
        },
        {
         "name": "Base Flavor",
         "rawType": "object",
         "type": "string"
        },
        {
         "name": "Liked",
         "rawType": "object",
         "type": "string"
        },
        {
         "name": "Flavor Rating",
         "rawType": "float64",
         "type": "float"
        },
        {
         "name": "Texture Rating",
         "rawType": "float64",
         "type": "float"
        },
        {
         "name": "Total Rating",
         "rawType": "float64",
         "type": "float"
        }
       ],
       "ref": "83575683-be33-427b-9f3e-1b0eabbe1982",
       "rows": [
        [
         "0",
         "Mint Chocolate Chip",
         "Vanilla",
         "Yes",
         "10.0",
         "8.0",
         "18.0"
        ],
        [
         "1",
         "Chocolate",
         "Chocolate",
         "Yes",
         "8.8",
         "7.6",
         "16.6"
        ],
        [
         "2",
         "Vanilla",
         "Vanilla",
         "No",
         "4.7",
         "5.0",
         "9.7"
        ],
        [
         "3",
         "Cookie Dough",
         "Vanilla",
         "Yes",
         "6.9",
         "6.5",
         "13.4"
        ],
        [
         "4",
         "Rocky Road",
         "Chocolate",
         "Yes",
         "8.2",
         "7.0",
         "15.2"
        ],
        [
         "5",
         "Pistachio",
         "Vanilla",
         "No",
         "2.3",
         "3.4",
         "5.7"
        ],
        [
         "6",
         "Cake Batter",
         "Vanilla",
         "Yes",
         "6.5",
         "6.0",
         "12.5"
        ],
        [
         "7",
         "Neapolitan",
         "Vanilla",
         "No",
         "3.8",
         "5.0",
         "8.8"
        ],
        [
         "8",
         "Chocolte Fudge Brownie",
         "Chocolate",
         "Yes",
         "8.2",
         "7.1",
         "15.3"
        ]
       ],
       "shape": {
        "columns": 6,
        "rows": 9
       }
      },
      "text/html": [
       "<div>\n",
       "<style scoped>\n",
       "    .dataframe tbody tr th:only-of-type {\n",
       "        vertical-align: middle;\n",
       "    }\n",
       "\n",
       "    .dataframe tbody tr th {\n",
       "        vertical-align: top;\n",
       "    }\n",
       "\n",
       "    .dataframe thead th {\n",
       "        text-align: right;\n",
       "    }\n",
       "</style>\n",
       "<table border=\"1\" class=\"dataframe\">\n",
       "  <thead>\n",
       "    <tr style=\"text-align: right;\">\n",
       "      <th></th>\n",
       "      <th>Flavor</th>\n",
       "      <th>Base Flavor</th>\n",
       "      <th>Liked</th>\n",
       "      <th>Flavor Rating</th>\n",
       "      <th>Texture Rating</th>\n",
       "      <th>Total Rating</th>\n",
       "    </tr>\n",
       "  </thead>\n",
       "  <tbody>\n",
       "    <tr>\n",
       "      <th>0</th>\n",
       "      <td>Mint Chocolate Chip</td>\n",
       "      <td>Vanilla</td>\n",
       "      <td>Yes</td>\n",
       "      <td>10.0</td>\n",
       "      <td>8.0</td>\n",
       "      <td>18.0</td>\n",
       "    </tr>\n",
       "    <tr>\n",
       "      <th>1</th>\n",
       "      <td>Chocolate</td>\n",
       "      <td>Chocolate</td>\n",
       "      <td>Yes</td>\n",
       "      <td>8.8</td>\n",
       "      <td>7.6</td>\n",
       "      <td>16.6</td>\n",
       "    </tr>\n",
       "    <tr>\n",
       "      <th>2</th>\n",
       "      <td>Vanilla</td>\n",
       "      <td>Vanilla</td>\n",
       "      <td>No</td>\n",
       "      <td>4.7</td>\n",
       "      <td>5.0</td>\n",
       "      <td>9.7</td>\n",
       "    </tr>\n",
       "    <tr>\n",
       "      <th>3</th>\n",
       "      <td>Cookie Dough</td>\n",
       "      <td>Vanilla</td>\n",
       "      <td>Yes</td>\n",
       "      <td>6.9</td>\n",
       "      <td>6.5</td>\n",
       "      <td>13.4</td>\n",
       "    </tr>\n",
       "    <tr>\n",
       "      <th>4</th>\n",
       "      <td>Rocky Road</td>\n",
       "      <td>Chocolate</td>\n",
       "      <td>Yes</td>\n",
       "      <td>8.2</td>\n",
       "      <td>7.0</td>\n",
       "      <td>15.2</td>\n",
       "    </tr>\n",
       "    <tr>\n",
       "      <th>5</th>\n",
       "      <td>Pistachio</td>\n",
       "      <td>Vanilla</td>\n",
       "      <td>No</td>\n",
       "      <td>2.3</td>\n",
       "      <td>3.4</td>\n",
       "      <td>5.7</td>\n",
       "    </tr>\n",
       "    <tr>\n",
       "      <th>6</th>\n",
       "      <td>Cake Batter</td>\n",
       "      <td>Vanilla</td>\n",
       "      <td>Yes</td>\n",
       "      <td>6.5</td>\n",
       "      <td>6.0</td>\n",
       "      <td>12.5</td>\n",
       "    </tr>\n",
       "    <tr>\n",
       "      <th>7</th>\n",
       "      <td>Neapolitan</td>\n",
       "      <td>Vanilla</td>\n",
       "      <td>No</td>\n",
       "      <td>3.8</td>\n",
       "      <td>5.0</td>\n",
       "      <td>8.8</td>\n",
       "    </tr>\n",
       "    <tr>\n",
       "      <th>8</th>\n",
       "      <td>Chocolte Fudge Brownie</td>\n",
       "      <td>Chocolate</td>\n",
       "      <td>Yes</td>\n",
       "      <td>8.2</td>\n",
       "      <td>7.1</td>\n",
       "      <td>15.3</td>\n",
       "    </tr>\n",
       "  </tbody>\n",
       "</table>\n",
       "</div>"
      ],
      "text/plain": [
       "                   Flavor Base Flavor Liked  Flavor Rating  Texture Rating  \\\n",
       "0     Mint Chocolate Chip     Vanilla   Yes           10.0             8.0   \n",
       "1               Chocolate   Chocolate   Yes            8.8             7.6   \n",
       "2                 Vanilla     Vanilla    No            4.7             5.0   \n",
       "3            Cookie Dough     Vanilla   Yes            6.9             6.5   \n",
       "4              Rocky Road   Chocolate   Yes            8.2             7.0   \n",
       "5               Pistachio     Vanilla    No            2.3             3.4   \n",
       "6             Cake Batter     Vanilla   Yes            6.5             6.0   \n",
       "7              Neapolitan     Vanilla    No            3.8             5.0   \n",
       "8  Chocolte Fudge Brownie   Chocolate   Yes            8.2             7.1   \n",
       "\n",
       "   Total Rating  \n",
       "0          18.0  \n",
       "1          16.6  \n",
       "2           9.7  \n",
       "3          13.4  \n",
       "4          15.2  \n",
       "5           5.7  \n",
       "6          12.5  \n",
       "7           8.8  \n",
       "8          15.3  "
      ]
     },
     "execution_count": 20,
     "metadata": {},
     "output_type": "execute_result"
    }
   ],
   "source": [
    "df2"
   ]
  },
  {
   "cell_type": "code",
   "execution_count": 23,
   "id": "f95f5dca",
   "metadata": {},
   "outputs": [
    {
     "data": {
      "application/vnd.microsoft.datawrangler.viewer.v0+json": {
       "columns": [
        {
         "name": "Base Flavor",
         "rawType": "object",
         "type": "string"
        },
        {
         "name": "('Flavor Rating', 'sum')",
         "rawType": "float64",
         "type": "float"
        },
        {
         "name": "('Flavor Rating', 'mean')",
         "rawType": "float64",
         "type": "float"
        },
        {
         "name": "('Flavor Rating', 'median')",
         "rawType": "float64",
         "type": "float"
        },
        {
         "name": "('Flavor Rating', 'min')",
         "rawType": "float64",
         "type": "float"
        },
        {
         "name": "('Flavor Rating', 'max')",
         "rawType": "float64",
         "type": "float"
        },
        {
         "name": "('Flavor Rating', 'std')",
         "rawType": "float64",
         "type": "float"
        },
        {
         "name": "('Flavor Rating', 'count')",
         "rawType": "int64",
         "type": "integer"
        },
        {
         "name": "('Texture Rating', 'sum')",
         "rawType": "float64",
         "type": "float"
        },
        {
         "name": "('Texture Rating', 'mean')",
         "rawType": "float64",
         "type": "float"
        },
        {
         "name": "('Texture Rating', 'median')",
         "rawType": "float64",
         "type": "float"
        },
        {
         "name": "('Texture Rating', 'min')",
         "rawType": "float64",
         "type": "float"
        },
        {
         "name": "('Texture Rating', 'max')",
         "rawType": "float64",
         "type": "float"
        },
        {
         "name": "('Texture Rating', 'std')",
         "rawType": "float64",
         "type": "float"
        },
        {
         "name": "('Texture Rating', 'count')",
         "rawType": "int64",
         "type": "integer"
        }
       ],
       "ref": "4547051e-aadd-4923-9007-de9d63b3293e",
       "rows": [
        [
         "Chocolate",
         "25.2",
         "8.4",
         "8.2",
         "8.2",
         "8.8",
         "0.3464101615137764",
         "3",
         "21.7",
         "7.233333333333333",
         "7.1",
         "7.0",
         "7.6",
         "0.3214550253664318",
         "3"
        ],
        [
         "Vanilla",
         "34.2",
         "5.7",
         "5.6",
         "2.3",
         "10.0",
         "2.710719461692781",
         "6",
         "33.9",
         "5.6499999999999995",
         "5.5",
         "3.4",
         "8.0",
         "1.5668439615992398",
         "6"
        ]
       ],
       "shape": {
        "columns": 14,
        "rows": 2
       }
      },
      "text/html": [
       "<div>\n",
       "<style scoped>\n",
       "    .dataframe tbody tr th:only-of-type {\n",
       "        vertical-align: middle;\n",
       "    }\n",
       "\n",
       "    .dataframe tbody tr th {\n",
       "        vertical-align: top;\n",
       "    }\n",
       "\n",
       "    .dataframe thead tr th {\n",
       "        text-align: left;\n",
       "    }\n",
       "\n",
       "    .dataframe thead tr:last-of-type th {\n",
       "        text-align: right;\n",
       "    }\n",
       "</style>\n",
       "<table border=\"1\" class=\"dataframe\">\n",
       "  <thead>\n",
       "    <tr>\n",
       "      <th></th>\n",
       "      <th colspan=\"7\" halign=\"left\">Flavor Rating</th>\n",
       "      <th colspan=\"7\" halign=\"left\">Texture Rating</th>\n",
       "    </tr>\n",
       "    <tr>\n",
       "      <th></th>\n",
       "      <th>sum</th>\n",
       "      <th>mean</th>\n",
       "      <th>median</th>\n",
       "      <th>min</th>\n",
       "      <th>max</th>\n",
       "      <th>std</th>\n",
       "      <th>count</th>\n",
       "      <th>sum</th>\n",
       "      <th>mean</th>\n",
       "      <th>median</th>\n",
       "      <th>min</th>\n",
       "      <th>max</th>\n",
       "      <th>std</th>\n",
       "      <th>count</th>\n",
       "    </tr>\n",
       "    <tr>\n",
       "      <th>Base Flavor</th>\n",
       "      <th></th>\n",
       "      <th></th>\n",
       "      <th></th>\n",
       "      <th></th>\n",
       "      <th></th>\n",
       "      <th></th>\n",
       "      <th></th>\n",
       "      <th></th>\n",
       "      <th></th>\n",
       "      <th></th>\n",
       "      <th></th>\n",
       "      <th></th>\n",
       "      <th></th>\n",
       "      <th></th>\n",
       "    </tr>\n",
       "  </thead>\n",
       "  <tbody>\n",
       "    <tr>\n",
       "      <th>Chocolate</th>\n",
       "      <td>25.2</td>\n",
       "      <td>8.4</td>\n",
       "      <td>8.2</td>\n",
       "      <td>8.2</td>\n",
       "      <td>8.8</td>\n",
       "      <td>0.346410</td>\n",
       "      <td>3</td>\n",
       "      <td>21.7</td>\n",
       "      <td>7.233333</td>\n",
       "      <td>7.1</td>\n",
       "      <td>7.0</td>\n",
       "      <td>7.6</td>\n",
       "      <td>0.321455</td>\n",
       "      <td>3</td>\n",
       "    </tr>\n",
       "    <tr>\n",
       "      <th>Vanilla</th>\n",
       "      <td>34.2</td>\n",
       "      <td>5.7</td>\n",
       "      <td>5.6</td>\n",
       "      <td>2.3</td>\n",
       "      <td>10.0</td>\n",
       "      <td>2.710719</td>\n",
       "      <td>6</td>\n",
       "      <td>33.9</td>\n",
       "      <td>5.650000</td>\n",
       "      <td>5.5</td>\n",
       "      <td>3.4</td>\n",
       "      <td>8.0</td>\n",
       "      <td>1.566844</td>\n",
       "      <td>6</td>\n",
       "    </tr>\n",
       "  </tbody>\n",
       "</table>\n",
       "</div>"
      ],
      "text/plain": [
       "            Flavor Rating                                         \\\n",
       "                      sum mean median  min   max       std count   \n",
       "Base Flavor                                                        \n",
       "Chocolate            25.2  8.4    8.2  8.2   8.8  0.346410     3   \n",
       "Vanilla              34.2  5.7    5.6  2.3  10.0  2.710719     6   \n",
       "\n",
       "            Texture Rating                                             \n",
       "                       sum      mean median  min  max       std count  \n",
       "Base Flavor                                                            \n",
       "Chocolate             21.7  7.233333    7.1  7.0  7.6  0.321455     3  \n",
       "Vanilla               33.9  5.650000    5.5  3.4  8.0  1.566844     6  "
      ]
     },
     "execution_count": 23,
     "metadata": {},
     "output_type": "execute_result"
    }
   ],
   "source": [
    "df2.groupby(\"Base Flavor\").agg({\n",
    "    \"Flavor Rating\" :[\"sum\", \"mean\", \"median\", \"min\", \"max\", \"std\", \"count\"],\n",
    "    \"Texture Rating\": [\"sum\", \"mean\", \"median\", \"min\", \"max\", \"std\", \"count\"]\n",
    "    })"
   ]
  },
  {
   "cell_type": "code",
   "execution_count": 25,
   "id": "e7715f83",
   "metadata": {},
   "outputs": [
    {
     "data": {
      "application/vnd.microsoft.datawrangler.viewer.v0+json": {
       "columns": [
        {
         "name": "('Base Flavor', 'Liked')",
         "rawType": "object",
         "type": "unknown"
        },
        {
         "name": "('Flavor Rating', 'sum')",
         "rawType": "float64",
         "type": "float"
        },
        {
         "name": "('Flavor Rating', 'mean')",
         "rawType": "float64",
         "type": "float"
        },
        {
         "name": "('Flavor Rating', 'median')",
         "rawType": "float64",
         "type": "float"
        },
        {
         "name": "('Flavor Rating', 'min')",
         "rawType": "float64",
         "type": "float"
        },
        {
         "name": "('Flavor Rating', 'max')",
         "rawType": "float64",
         "type": "float"
        },
        {
         "name": "('Flavor Rating', 'std')",
         "rawType": "float64",
         "type": "float"
        },
        {
         "name": "('Flavor Rating', 'count')",
         "rawType": "int64",
         "type": "integer"
        },
        {
         "name": "('Texture Rating', 'sum')",
         "rawType": "float64",
         "type": "float"
        },
        {
         "name": "('Texture Rating', 'mean')",
         "rawType": "float64",
         "type": "float"
        },
        {
         "name": "('Texture Rating', 'median')",
         "rawType": "float64",
         "type": "float"
        },
        {
         "name": "('Texture Rating', 'min')",
         "rawType": "float64",
         "type": "float"
        },
        {
         "name": "('Texture Rating', 'max')",
         "rawType": "float64",
         "type": "float"
        },
        {
         "name": "('Texture Rating', 'std')",
         "rawType": "float64",
         "type": "float"
        },
        {
         "name": "('Texture Rating', 'count')",
         "rawType": "int64",
         "type": "integer"
        }
       ],
       "ref": "968c8e96-dad7-4947-8c02-c7c79d024906",
       "rows": [
        [
         "('Chocolate', 'Yes')",
         "25.2",
         "8.4",
         "8.2",
         "8.2",
         "8.8",
         "0.3464101615137764",
         "3",
         "21.7",
         "7.233333333333333",
         "7.1",
         "7.0",
         "7.6",
         "0.3214550253664318",
         "3"
        ],
        [
         "('Vanilla', 'No')",
         "10.8",
         "3.6",
         "3.8",
         "2.3",
         "4.7",
         "1.2124355652982142",
         "3",
         "13.4",
         "4.466666666666667",
         "5.0",
         "3.4",
         "5.0",
         "0.9237604307034013",
         "3"
        ],
        [
         "('Vanilla', 'Yes')",
         "23.4",
         "7.8",
         "6.9",
         "6.5",
         "10.0",
         "1.915724406066801",
         "3",
         "20.5",
         "6.833333333333333",
         "6.5",
         "6.0",
         "8.0",
         "1.0408329997330663",
         "3"
        ]
       ],
       "shape": {
        "columns": 14,
        "rows": 3
       }
      },
      "text/html": [
       "<div>\n",
       "<style scoped>\n",
       "    .dataframe tbody tr th:only-of-type {\n",
       "        vertical-align: middle;\n",
       "    }\n",
       "\n",
       "    .dataframe tbody tr th {\n",
       "        vertical-align: top;\n",
       "    }\n",
       "\n",
       "    .dataframe thead tr th {\n",
       "        text-align: left;\n",
       "    }\n",
       "\n",
       "    .dataframe thead tr:last-of-type th {\n",
       "        text-align: right;\n",
       "    }\n",
       "</style>\n",
       "<table border=\"1\" class=\"dataframe\">\n",
       "  <thead>\n",
       "    <tr>\n",
       "      <th></th>\n",
       "      <th></th>\n",
       "      <th colspan=\"7\" halign=\"left\">Flavor Rating</th>\n",
       "      <th colspan=\"7\" halign=\"left\">Texture Rating</th>\n",
       "    </tr>\n",
       "    <tr>\n",
       "      <th></th>\n",
       "      <th></th>\n",
       "      <th>sum</th>\n",
       "      <th>mean</th>\n",
       "      <th>median</th>\n",
       "      <th>min</th>\n",
       "      <th>max</th>\n",
       "      <th>std</th>\n",
       "      <th>count</th>\n",
       "      <th>sum</th>\n",
       "      <th>mean</th>\n",
       "      <th>median</th>\n",
       "      <th>min</th>\n",
       "      <th>max</th>\n",
       "      <th>std</th>\n",
       "      <th>count</th>\n",
       "    </tr>\n",
       "    <tr>\n",
       "      <th>Base Flavor</th>\n",
       "      <th>Liked</th>\n",
       "      <th></th>\n",
       "      <th></th>\n",
       "      <th></th>\n",
       "      <th></th>\n",
       "      <th></th>\n",
       "      <th></th>\n",
       "      <th></th>\n",
       "      <th></th>\n",
       "      <th></th>\n",
       "      <th></th>\n",
       "      <th></th>\n",
       "      <th></th>\n",
       "      <th></th>\n",
       "      <th></th>\n",
       "    </tr>\n",
       "  </thead>\n",
       "  <tbody>\n",
       "    <tr>\n",
       "      <th>Chocolate</th>\n",
       "      <th>Yes</th>\n",
       "      <td>25.2</td>\n",
       "      <td>8.4</td>\n",
       "      <td>8.2</td>\n",
       "      <td>8.2</td>\n",
       "      <td>8.8</td>\n",
       "      <td>0.346410</td>\n",
       "      <td>3</td>\n",
       "      <td>21.7</td>\n",
       "      <td>7.233333</td>\n",
       "      <td>7.1</td>\n",
       "      <td>7.0</td>\n",
       "      <td>7.6</td>\n",
       "      <td>0.321455</td>\n",
       "      <td>3</td>\n",
       "    </tr>\n",
       "    <tr>\n",
       "      <th rowspan=\"2\" valign=\"top\">Vanilla</th>\n",
       "      <th>No</th>\n",
       "      <td>10.8</td>\n",
       "      <td>3.6</td>\n",
       "      <td>3.8</td>\n",
       "      <td>2.3</td>\n",
       "      <td>4.7</td>\n",
       "      <td>1.212436</td>\n",
       "      <td>3</td>\n",
       "      <td>13.4</td>\n",
       "      <td>4.466667</td>\n",
       "      <td>5.0</td>\n",
       "      <td>3.4</td>\n",
       "      <td>5.0</td>\n",
       "      <td>0.923760</td>\n",
       "      <td>3</td>\n",
       "    </tr>\n",
       "    <tr>\n",
       "      <th>Yes</th>\n",
       "      <td>23.4</td>\n",
       "      <td>7.8</td>\n",
       "      <td>6.9</td>\n",
       "      <td>6.5</td>\n",
       "      <td>10.0</td>\n",
       "      <td>1.915724</td>\n",
       "      <td>3</td>\n",
       "      <td>20.5</td>\n",
       "      <td>6.833333</td>\n",
       "      <td>6.5</td>\n",
       "      <td>6.0</td>\n",
       "      <td>8.0</td>\n",
       "      <td>1.040833</td>\n",
       "      <td>3</td>\n",
       "    </tr>\n",
       "  </tbody>\n",
       "</table>\n",
       "</div>"
      ],
      "text/plain": [
       "                  Flavor Rating                                         \\\n",
       "                            sum mean median  min   max       std count   \n",
       "Base Flavor Liked                                                        \n",
       "Chocolate   Yes            25.2  8.4    8.2  8.2   8.8  0.346410     3   \n",
       "Vanilla     No             10.8  3.6    3.8  2.3   4.7  1.212436     3   \n",
       "            Yes            23.4  7.8    6.9  6.5  10.0  1.915724     3   \n",
       "\n",
       "                  Texture Rating                                             \n",
       "                             sum      mean median  min  max       std count  \n",
       "Base Flavor Liked                                                            \n",
       "Chocolate   Yes             21.7  7.233333    7.1  7.0  7.6  0.321455     3  \n",
       "Vanilla     No              13.4  4.466667    5.0  3.4  5.0  0.923760     3  \n",
       "            Yes             20.5  6.833333    6.5  6.0  8.0  1.040833     3  "
      ]
     },
     "execution_count": 25,
     "metadata": {},
     "output_type": "execute_result"
    }
   ],
   "source": [
    "df2.groupby([\"Base Flavor\", \"Liked\"]).agg({\n",
    "    \"Flavor Rating\" :[\"sum\", \"mean\", \"median\", \"min\", \"max\", \"std\", \"count\"],\n",
    "    \"Texture Rating\": [\"sum\", \"mean\", \"median\", \"min\", \"max\", \"std\", \"count\"]\n",
    "    })"
   ]
  },
  {
   "cell_type": "code",
   "execution_count": 27,
   "id": "42ec6547",
   "metadata": {},
   "outputs": [
    {
     "data": {
      "application/vnd.microsoft.datawrangler.viewer.v0+json": {
       "columns": [
        {
         "name": "Base Flavor",
         "rawType": "object",
         "type": "string"
        },
        {
         "name": "('Flavor Rating', 'count')",
         "rawType": "float64",
         "type": "float"
        },
        {
         "name": "('Flavor Rating', 'mean')",
         "rawType": "float64",
         "type": "float"
        },
        {
         "name": "('Flavor Rating', 'std')",
         "rawType": "float64",
         "type": "float"
        },
        {
         "name": "('Flavor Rating', 'min')",
         "rawType": "float64",
         "type": "float"
        },
        {
         "name": "('Flavor Rating', '25%')",
         "rawType": "float64",
         "type": "float"
        },
        {
         "name": "('Flavor Rating', '50%')",
         "rawType": "float64",
         "type": "float"
        },
        {
         "name": "('Flavor Rating', '75%')",
         "rawType": "float64",
         "type": "float"
        },
        {
         "name": "('Flavor Rating', 'max')",
         "rawType": "float64",
         "type": "float"
        },
        {
         "name": "('Texture Rating', 'count')",
         "rawType": "float64",
         "type": "float"
        },
        {
         "name": "('Texture Rating', 'mean')",
         "rawType": "float64",
         "type": "float"
        },
        {
         "name": "('Texture Rating', 'std')",
         "rawType": "float64",
         "type": "float"
        },
        {
         "name": "('Texture Rating', 'min')",
         "rawType": "float64",
         "type": "float"
        },
        {
         "name": "('Texture Rating', '25%')",
         "rawType": "float64",
         "type": "float"
        },
        {
         "name": "('Texture Rating', '50%')",
         "rawType": "float64",
         "type": "float"
        },
        {
         "name": "('Texture Rating', '75%')",
         "rawType": "float64",
         "type": "float"
        },
        {
         "name": "('Texture Rating', 'max')",
         "rawType": "float64",
         "type": "float"
        },
        {
         "name": "('Total Rating', 'count')",
         "rawType": "float64",
         "type": "float"
        },
        {
         "name": "('Total Rating', 'mean')",
         "rawType": "float64",
         "type": "float"
        },
        {
         "name": "('Total Rating', 'std')",
         "rawType": "float64",
         "type": "float"
        },
        {
         "name": "('Total Rating', 'min')",
         "rawType": "float64",
         "type": "float"
        },
        {
         "name": "('Total Rating', '25%')",
         "rawType": "float64",
         "type": "float"
        },
        {
         "name": "('Total Rating', '50%')",
         "rawType": "float64",
         "type": "float"
        },
        {
         "name": "('Total Rating', '75%')",
         "rawType": "float64",
         "type": "float"
        },
        {
         "name": "('Total Rating', 'max')",
         "rawType": "float64",
         "type": "float"
        }
       ],
       "ref": "10ae63fb-66c7-45ef-ad52-05fc9cf98bd3",
       "rows": [
        [
         "Chocolate",
         "3.0",
         "8.4",
         "0.3464101615137763",
         "8.2",
         "8.2",
         "8.2",
         "8.5",
         "8.8",
         "3.0",
         "7.233333333333333",
         "0.3214550253664317",
         "7.0",
         "7.05",
         "7.1",
         "7.35",
         "7.6",
         "3.0",
         "15.700000000000001",
         "0.7810249675906663",
         "15.2",
         "15.25",
         "15.3",
         "15.950000000000001",
         "16.6"
        ],
        [
         "Vanilla",
         "6.0",
         "5.7",
         "2.710719461692781",
         "2.3",
         "4.025",
         "5.6",
         "6.800000000000001",
         "10.0",
         "6.0",
         "5.6499999999999995",
         "1.5668439615992398",
         "3.4",
         "5.0",
         "5.5",
         "6.375",
         "8.0",
         "6.0",
         "11.350000000000001",
         "4.263683853195496",
         "5.7",
         "9.025",
         "11.1",
         "13.175",
         "18.0"
        ]
       ],
       "shape": {
        "columns": 24,
        "rows": 2
       }
      },
      "text/html": [
       "<div>\n",
       "<style scoped>\n",
       "    .dataframe tbody tr th:only-of-type {\n",
       "        vertical-align: middle;\n",
       "    }\n",
       "\n",
       "    .dataframe tbody tr th {\n",
       "        vertical-align: top;\n",
       "    }\n",
       "\n",
       "    .dataframe thead tr th {\n",
       "        text-align: left;\n",
       "    }\n",
       "\n",
       "    .dataframe thead tr:last-of-type th {\n",
       "        text-align: right;\n",
       "    }\n",
       "</style>\n",
       "<table border=\"1\" class=\"dataframe\">\n",
       "  <thead>\n",
       "    <tr>\n",
       "      <th></th>\n",
       "      <th colspan=\"8\" halign=\"left\">Flavor Rating</th>\n",
       "      <th colspan=\"5\" halign=\"left\">Texture Rating</th>\n",
       "      <th colspan=\"8\" halign=\"left\">Total Rating</th>\n",
       "    </tr>\n",
       "    <tr>\n",
       "      <th></th>\n",
       "      <th>count</th>\n",
       "      <th>mean</th>\n",
       "      <th>std</th>\n",
       "      <th>min</th>\n",
       "      <th>25%</th>\n",
       "      <th>50%</th>\n",
       "      <th>75%</th>\n",
       "      <th>max</th>\n",
       "      <th>count</th>\n",
       "      <th>mean</th>\n",
       "      <th>...</th>\n",
       "      <th>75%</th>\n",
       "      <th>max</th>\n",
       "      <th>count</th>\n",
       "      <th>mean</th>\n",
       "      <th>std</th>\n",
       "      <th>min</th>\n",
       "      <th>25%</th>\n",
       "      <th>50%</th>\n",
       "      <th>75%</th>\n",
       "      <th>max</th>\n",
       "    </tr>\n",
       "    <tr>\n",
       "      <th>Base Flavor</th>\n",
       "      <th></th>\n",
       "      <th></th>\n",
       "      <th></th>\n",
       "      <th></th>\n",
       "      <th></th>\n",
       "      <th></th>\n",
       "      <th></th>\n",
       "      <th></th>\n",
       "      <th></th>\n",
       "      <th></th>\n",
       "      <th></th>\n",
       "      <th></th>\n",
       "      <th></th>\n",
       "      <th></th>\n",
       "      <th></th>\n",
       "      <th></th>\n",
       "      <th></th>\n",
       "      <th></th>\n",
       "      <th></th>\n",
       "      <th></th>\n",
       "      <th></th>\n",
       "    </tr>\n",
       "  </thead>\n",
       "  <tbody>\n",
       "    <tr>\n",
       "      <th>Chocolate</th>\n",
       "      <td>3.0</td>\n",
       "      <td>8.4</td>\n",
       "      <td>0.346410</td>\n",
       "      <td>8.2</td>\n",
       "      <td>8.200</td>\n",
       "      <td>8.2</td>\n",
       "      <td>8.5</td>\n",
       "      <td>8.8</td>\n",
       "      <td>3.0</td>\n",
       "      <td>7.233333</td>\n",
       "      <td>...</td>\n",
       "      <td>7.350</td>\n",
       "      <td>7.6</td>\n",
       "      <td>3.0</td>\n",
       "      <td>15.70</td>\n",
       "      <td>0.781025</td>\n",
       "      <td>15.2</td>\n",
       "      <td>15.250</td>\n",
       "      <td>15.3</td>\n",
       "      <td>15.950</td>\n",
       "      <td>16.6</td>\n",
       "    </tr>\n",
       "    <tr>\n",
       "      <th>Vanilla</th>\n",
       "      <td>6.0</td>\n",
       "      <td>5.7</td>\n",
       "      <td>2.710719</td>\n",
       "      <td>2.3</td>\n",
       "      <td>4.025</td>\n",
       "      <td>5.6</td>\n",
       "      <td>6.8</td>\n",
       "      <td>10.0</td>\n",
       "      <td>6.0</td>\n",
       "      <td>5.650000</td>\n",
       "      <td>...</td>\n",
       "      <td>6.375</td>\n",
       "      <td>8.0</td>\n",
       "      <td>6.0</td>\n",
       "      <td>11.35</td>\n",
       "      <td>4.263684</td>\n",
       "      <td>5.7</td>\n",
       "      <td>9.025</td>\n",
       "      <td>11.1</td>\n",
       "      <td>13.175</td>\n",
       "      <td>18.0</td>\n",
       "    </tr>\n",
       "  </tbody>\n",
       "</table>\n",
       "<p>2 rows × 24 columns</p>\n",
       "</div>"
      ],
      "text/plain": [
       "            Flavor Rating                                             \\\n",
       "                    count mean       std  min    25%  50%  75%   max   \n",
       "Base Flavor                                                            \n",
       "Chocolate             3.0  8.4  0.346410  8.2  8.200  8.2  8.5   8.8   \n",
       "Vanilla               6.0  5.7  2.710719  2.3  4.025  5.6  6.8  10.0   \n",
       "\n",
       "            Texture Rating            ...             Total Rating         \\\n",
       "                     count      mean  ...    75%  max        count   mean   \n",
       "Base Flavor                           ...                                   \n",
       "Chocolate              3.0  7.233333  ...  7.350  7.6          3.0  15.70   \n",
       "Vanilla                6.0  5.650000  ...  6.375  8.0          6.0  11.35   \n",
       "\n",
       "                                                         \n",
       "                  std   min     25%   50%     75%   max  \n",
       "Base Flavor                                              \n",
       "Chocolate    0.781025  15.2  15.250  15.3  15.950  16.6  \n",
       "Vanilla      4.263684   5.7   9.025  11.1  13.175  18.0  \n",
       "\n",
       "[2 rows x 24 columns]"
      ]
     },
     "execution_count": 27,
     "metadata": {},
     "output_type": "execute_result"
    }
   ],
   "source": [
    "df2.groupby(\"Base Flavor\").describe()"
   ]
  }
 ],
 "metadata": {
  "kernelspec": {
   "display_name": "myenv",
   "language": "python",
   "name": "python3"
  },
  "language_info": {
   "codemirror_mode": {
    "name": "ipython",
    "version": 3
   },
   "file_extension": ".py",
   "mimetype": "text/x-python",
   "name": "python",
   "nbconvert_exporter": "python",
   "pygments_lexer": "ipython3",
   "version": "3.13.5"
  }
 },
 "nbformat": 4,
 "nbformat_minor": 5
}
